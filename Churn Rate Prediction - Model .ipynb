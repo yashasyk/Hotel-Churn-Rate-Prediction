{
 "cells": [
  {
   "cell_type": "code",
   "execution_count": 1,
   "id": "df09e3eb",
   "metadata": {},
   "outputs": [],
   "source": [
    "import numpy as np\n",
    "import pandas as pd\n",
    "import matplotlib.pyplot as plt\n",
    "import seaborn as sns\n",
    "%matplotlib inline\n",
    "\n",
    "#Display all the columns of the dataframe\n",
    "pd.pandas.set_option('display.max_columns', None)\n",
    "\n",
    "from warnings import filterwarnings\n",
    "filterwarnings('ignore')"
   ]
  },
  {
   "cell_type": "code",
   "execution_count": 2,
   "id": "2d2a0d14",
   "metadata": {},
   "outputs": [
    {
     "data": {
      "text/html": [
       "<div>\n",
       "<style scoped>\n",
       "    .dataframe tbody tr th:only-of-type {\n",
       "        vertical-align: middle;\n",
       "    }\n",
       "\n",
       "    .dataframe tbody tr th {\n",
       "        vertical-align: top;\n",
       "    }\n",
       "\n",
       "    .dataframe thead th {\n",
       "        text-align: right;\n",
       "    }\n",
       "</style>\n",
       "<table border=\"1\" class=\"dataframe\">\n",
       "  <thead>\n",
       "    <tr style=\"text-align: right;\">\n",
       "      <th></th>\n",
       "      <th>hotel</th>\n",
       "      <th>is_canceled</th>\n",
       "      <th>lead_time</th>\n",
       "      <th>arrival_date_year</th>\n",
       "      <th>arrival_date_month</th>\n",
       "      <th>arrival_date_week_number</th>\n",
       "      <th>arrival_date_day_of_month</th>\n",
       "      <th>stays_in_weekend_nights</th>\n",
       "      <th>stays_in_week_nights</th>\n",
       "      <th>meal</th>\n",
       "      <th>country</th>\n",
       "      <th>market_segment</th>\n",
       "      <th>distribution_channel</th>\n",
       "      <th>is_repeated_guest</th>\n",
       "      <th>previous_cancellations</th>\n",
       "      <th>previous_bookings_not_canceled</th>\n",
       "      <th>reserved_room_type</th>\n",
       "      <th>assigned_room_type</th>\n",
       "      <th>booking_changes</th>\n",
       "      <th>deposit_type</th>\n",
       "      <th>agent</th>\n",
       "      <th>days_in_waiting_list</th>\n",
       "      <th>customer_type</th>\n",
       "      <th>adr</th>\n",
       "      <th>required_car_parking_spaces</th>\n",
       "      <th>total_of_special_requests</th>\n",
       "      <th>reservation_status</th>\n",
       "      <th>reservation_status_date</th>\n",
       "      <th>guests</th>\n",
       "    </tr>\n",
       "  </thead>\n",
       "  <tbody>\n",
       "    <tr>\n",
       "      <th>0</th>\n",
       "      <td>Resort Hotel</td>\n",
       "      <td>0</td>\n",
       "      <td>296.0</td>\n",
       "      <td>2015</td>\n",
       "      <td>July</td>\n",
       "      <td>27</td>\n",
       "      <td>1</td>\n",
       "      <td>0.0</td>\n",
       "      <td>0.0</td>\n",
       "      <td>BB</td>\n",
       "      <td>PRT</td>\n",
       "      <td>Direct</td>\n",
       "      <td>Direct</td>\n",
       "      <td>0</td>\n",
       "      <td>0</td>\n",
       "      <td>0</td>\n",
       "      <td>C</td>\n",
       "      <td>C</td>\n",
       "      <td>3</td>\n",
       "      <td>No Deposit</td>\n",
       "      <td>0</td>\n",
       "      <td>0</td>\n",
       "      <td>Transient</td>\n",
       "      <td>0.0</td>\n",
       "      <td>0</td>\n",
       "      <td>0</td>\n",
       "      <td>Check-Out</td>\n",
       "      <td>2015-07-01</td>\n",
       "      <td>2</td>\n",
       "    </tr>\n",
       "    <tr>\n",
       "      <th>1</th>\n",
       "      <td>Resort Hotel</td>\n",
       "      <td>0</td>\n",
       "      <td>296.0</td>\n",
       "      <td>2015</td>\n",
       "      <td>July</td>\n",
       "      <td>27</td>\n",
       "      <td>1</td>\n",
       "      <td>0.0</td>\n",
       "      <td>0.0</td>\n",
       "      <td>BB</td>\n",
       "      <td>PRT</td>\n",
       "      <td>Direct</td>\n",
       "      <td>Direct</td>\n",
       "      <td>0</td>\n",
       "      <td>0</td>\n",
       "      <td>0</td>\n",
       "      <td>C</td>\n",
       "      <td>C</td>\n",
       "      <td>4</td>\n",
       "      <td>No Deposit</td>\n",
       "      <td>0</td>\n",
       "      <td>0</td>\n",
       "      <td>Transient</td>\n",
       "      <td>0.0</td>\n",
       "      <td>0</td>\n",
       "      <td>0</td>\n",
       "      <td>Check-Out</td>\n",
       "      <td>2015-07-01</td>\n",
       "      <td>2</td>\n",
       "    </tr>\n",
       "    <tr>\n",
       "      <th>2</th>\n",
       "      <td>Resort Hotel</td>\n",
       "      <td>0</td>\n",
       "      <td>7.0</td>\n",
       "      <td>2015</td>\n",
       "      <td>July</td>\n",
       "      <td>27</td>\n",
       "      <td>1</td>\n",
       "      <td>0.0</td>\n",
       "      <td>1.0</td>\n",
       "      <td>BB</td>\n",
       "      <td>GBR</td>\n",
       "      <td>Direct</td>\n",
       "      <td>Direct</td>\n",
       "      <td>0</td>\n",
       "      <td>0</td>\n",
       "      <td>0</td>\n",
       "      <td>A</td>\n",
       "      <td>C</td>\n",
       "      <td>0</td>\n",
       "      <td>No Deposit</td>\n",
       "      <td>0</td>\n",
       "      <td>0</td>\n",
       "      <td>Transient</td>\n",
       "      <td>75.0</td>\n",
       "      <td>0</td>\n",
       "      <td>0</td>\n",
       "      <td>Check-Out</td>\n",
       "      <td>2015-07-02</td>\n",
       "      <td>1</td>\n",
       "    </tr>\n",
       "    <tr>\n",
       "      <th>3</th>\n",
       "      <td>Resort Hotel</td>\n",
       "      <td>0</td>\n",
       "      <td>13.0</td>\n",
       "      <td>2015</td>\n",
       "      <td>July</td>\n",
       "      <td>27</td>\n",
       "      <td>1</td>\n",
       "      <td>0.0</td>\n",
       "      <td>1.0</td>\n",
       "      <td>BB</td>\n",
       "      <td>GBR</td>\n",
       "      <td>Corporate</td>\n",
       "      <td>Corporate</td>\n",
       "      <td>0</td>\n",
       "      <td>0</td>\n",
       "      <td>0</td>\n",
       "      <td>A</td>\n",
       "      <td>A</td>\n",
       "      <td>0</td>\n",
       "      <td>No Deposit</td>\n",
       "      <td>304</td>\n",
       "      <td>0</td>\n",
       "      <td>Transient</td>\n",
       "      <td>75.0</td>\n",
       "      <td>0</td>\n",
       "      <td>0</td>\n",
       "      <td>Check-Out</td>\n",
       "      <td>2015-07-02</td>\n",
       "      <td>1</td>\n",
       "    </tr>\n",
       "    <tr>\n",
       "      <th>4</th>\n",
       "      <td>Resort Hotel</td>\n",
       "      <td>0</td>\n",
       "      <td>14.0</td>\n",
       "      <td>2015</td>\n",
       "      <td>July</td>\n",
       "      <td>27</td>\n",
       "      <td>1</td>\n",
       "      <td>0.0</td>\n",
       "      <td>2.0</td>\n",
       "      <td>BB</td>\n",
       "      <td>GBR</td>\n",
       "      <td>Online TA</td>\n",
       "      <td>TA/TO</td>\n",
       "      <td>0</td>\n",
       "      <td>0</td>\n",
       "      <td>0</td>\n",
       "      <td>A</td>\n",
       "      <td>A</td>\n",
       "      <td>0</td>\n",
       "      <td>No Deposit</td>\n",
       "      <td>240</td>\n",
       "      <td>0</td>\n",
       "      <td>Transient</td>\n",
       "      <td>98.0</td>\n",
       "      <td>0</td>\n",
       "      <td>1</td>\n",
       "      <td>Check-Out</td>\n",
       "      <td>2015-07-03</td>\n",
       "      <td>2</td>\n",
       "    </tr>\n",
       "  </tbody>\n",
       "</table>\n",
       "</div>"
      ],
      "text/plain": [
       "          hotel  is_canceled  lead_time  arrival_date_year arrival_date_month  \\\n",
       "0  Resort Hotel            0      296.0               2015               July   \n",
       "1  Resort Hotel            0      296.0               2015               July   \n",
       "2  Resort Hotel            0        7.0               2015               July   \n",
       "3  Resort Hotel            0       13.0               2015               July   \n",
       "4  Resort Hotel            0       14.0               2015               July   \n",
       "\n",
       "   arrival_date_week_number  arrival_date_day_of_month  \\\n",
       "0                        27                          1   \n",
       "1                        27                          1   \n",
       "2                        27                          1   \n",
       "3                        27                          1   \n",
       "4                        27                          1   \n",
       "\n",
       "   stays_in_weekend_nights  stays_in_week_nights meal country market_segment  \\\n",
       "0                      0.0                   0.0   BB     PRT         Direct   \n",
       "1                      0.0                   0.0   BB     PRT         Direct   \n",
       "2                      0.0                   1.0   BB     GBR         Direct   \n",
       "3                      0.0                   1.0   BB     GBR      Corporate   \n",
       "4                      0.0                   2.0   BB     GBR      Online TA   \n",
       "\n",
       "  distribution_channel  is_repeated_guest  previous_cancellations  \\\n",
       "0               Direct                  0                       0   \n",
       "1               Direct                  0                       0   \n",
       "2               Direct                  0                       0   \n",
       "3            Corporate                  0                       0   \n",
       "4                TA/TO                  0                       0   \n",
       "\n",
       "   previous_bookings_not_canceled reserved_room_type assigned_room_type  \\\n",
       "0                               0                  C                  C   \n",
       "1                               0                  C                  C   \n",
       "2                               0                  A                  C   \n",
       "3                               0                  A                  A   \n",
       "4                               0                  A                  A   \n",
       "\n",
       "   booking_changes deposit_type  agent  days_in_waiting_list customer_type  \\\n",
       "0                3   No Deposit      0                     0     Transient   \n",
       "1                4   No Deposit      0                     0     Transient   \n",
       "2                0   No Deposit      0                     0     Transient   \n",
       "3                0   No Deposit    304                     0     Transient   \n",
       "4                0   No Deposit    240                     0     Transient   \n",
       "\n",
       "    adr  required_car_parking_spaces  total_of_special_requests  \\\n",
       "0   0.0                            0                          0   \n",
       "1   0.0                            0                          0   \n",
       "2  75.0                            0                          0   \n",
       "3  75.0                            0                          0   \n",
       "4  98.0                            0                          1   \n",
       "\n",
       "  reservation_status reservation_status_date  guests  \n",
       "0          Check-Out              2015-07-01       2  \n",
       "1          Check-Out              2015-07-01       2  \n",
       "2          Check-Out              2015-07-02       1  \n",
       "3          Check-Out              2015-07-02       1  \n",
       "4          Check-Out              2015-07-03       2  "
      ]
     },
     "execution_count": 2,
     "metadata": {},
     "output_type": "execute_result"
    }
   ],
   "source": [
    "data = pd.read_csv(\"C:\\\\My Computer\\\\Documents\\\\Excler\\\\Project 1\\\\bookings_cleaned1.csv\")\n",
    "data.head()"
   ]
  },
  {
   "cell_type": "markdown",
   "id": "5f2f1ac3",
   "metadata": {},
   "source": [
    "## Feature Selection"
   ]
  },
  {
   "cell_type": "code",
   "execution_count": 3,
   "id": "4549a22a",
   "metadata": {},
   "outputs": [
    {
     "name": "stdout",
     "output_type": "stream",
     "text": [
      "Number of Categorical Features are :  12\n"
     ]
    }
   ],
   "source": [
    "data1 = data.copy()\n",
    "\n",
    "categorical_feature = [feature for feature in data1.columns if data1[feature].dtype == 'object']\n",
    "print(\"Number of Categorical Features are : \",len(categorical_feature))"
   ]
  },
  {
   "cell_type": "code",
   "execution_count": 4,
   "id": "bb7ab14a",
   "metadata": {},
   "outputs": [],
   "source": [
    "# replacing \"undefined\" values in meal, market_segment and distribution channel columns\n",
    "data1[\"meal\"].replace(\"Undefined\", \"SC\", inplace=True)\n",
    "data1[\"market_segment\"].replace(\"Undefined\", \"Online TA\", inplace=True)\n",
    "data1[\"distribution_channel\"].replace(\"Undefined\", \"TA/TO\", inplace=True)"
   ]
  },
  {
   "cell_type": "code",
   "execution_count": 5,
   "id": "acbeea11",
   "metadata": {},
   "outputs": [],
   "source": [
    "# Creating a new column which shows 1 for values if the customer got the same\n",
    "# room as he reserved\n",
    "data1['room'] = 0\n",
    "data1.loc[data1['reserved_room_type']==data1[\"assigned_room_type\"], 'room'] = 1"
   ]
  },
  {
   "cell_type": "code",
   "execution_count": 6,
   "id": "1ddac8d8",
   "metadata": {},
   "outputs": [],
   "source": [
    "# Creating a new column which shows 1 if the previous cancellations are more than previously not cancelled\n",
    "data1['net_canceled'] = 0\n",
    "data1.loc[data1['previous_cancellations']>data1[\"previous_bookings_not_canceled\"], 'net_canceled'] = 1"
   ]
  },
  {
   "cell_type": "code",
   "execution_count": 7,
   "id": "5e3b446f",
   "metadata": {},
   "outputs": [],
   "source": [
    "# mapping months to number\n",
    "data1['arrival_date_month'] = data1['arrival_date_month'].map({'January':1, 'February': 2, 'March':3, 'April':4, 'May':5, 'June':6, 'July':7,\n",
    "                                                            'August':8, 'September':9, 'October':10, 'November':11, 'December':12})"
   ]
  },
  {
   "cell_type": "code",
   "execution_count": 8,
   "id": "c7812070",
   "metadata": {},
   "outputs": [],
   "source": [
    "# encoding hotel column\n",
    "data1['hotel'] = data1['hotel'].map({'Resort Hotel':0, 'City Hotel':1})"
   ]
  },
  {
   "cell_type": "code",
   "execution_count": 9,
   "id": "122328e2",
   "metadata": {},
   "outputs": [],
   "source": [
    "#Applying label encoding for categorical features\n",
    "from sklearn.preprocessing import LabelEncoder\n",
    "data1['meal'] = LabelEncoder().fit_transform(data1['meal'])\n",
    "\n",
    "data1['deposit_type'] = LabelEncoder().fit_transform(data1['deposit_type'])\n",
    "\n",
    "data1['customer_type'] = LabelEncoder().fit_transform(data1['customer_type'])\n",
    "\n",
    "data1['market_segment'] = LabelEncoder().fit_transform(data1['market_segment'])\n",
    "\n",
    "data1['distribution_channel'] = LabelEncoder().fit_transform(data1['distribution_channel'])\n",
    "\n",
    "data1['reserved_room_type'] = LabelEncoder().fit_transform(data1['reserved_room_type'])\n",
    "\n",
    "data1['assigned_room_type']= LabelEncoder().fit_transform(data1['assigned_room_type'])\n",
    "\n",
    "data1['reservation_status'] = LabelEncoder().fit_transform(data1['reservation_status'])\n",
    "\n",
    "data1['reservation_status_date'] = LabelEncoder().fit_transform(data1['reservation_status_date'])\n",
    "\n",
    "data1['country'] = LabelEncoder().fit_transform(data1['country'])"
   ]
  },
  {
   "cell_type": "code",
   "execution_count": 10,
   "id": "8899e159",
   "metadata": {},
   "outputs": [
    {
     "data": {
      "text/html": [
       "<div>\n",
       "<style scoped>\n",
       "    .dataframe tbody tr th:only-of-type {\n",
       "        vertical-align: middle;\n",
       "    }\n",
       "\n",
       "    .dataframe tbody tr th {\n",
       "        vertical-align: top;\n",
       "    }\n",
       "\n",
       "    .dataframe thead th {\n",
       "        text-align: right;\n",
       "    }\n",
       "</style>\n",
       "<table border=\"1\" class=\"dataframe\">\n",
       "  <thead>\n",
       "    <tr style=\"text-align: right;\">\n",
       "      <th></th>\n",
       "      <th>hotel</th>\n",
       "      <th>is_canceled</th>\n",
       "      <th>lead_time</th>\n",
       "      <th>arrival_date_year</th>\n",
       "      <th>arrival_date_month</th>\n",
       "      <th>arrival_date_week_number</th>\n",
       "      <th>arrival_date_day_of_month</th>\n",
       "      <th>stays_in_weekend_nights</th>\n",
       "      <th>stays_in_week_nights</th>\n",
       "      <th>meal</th>\n",
       "      <th>country</th>\n",
       "      <th>market_segment</th>\n",
       "      <th>distribution_channel</th>\n",
       "      <th>is_repeated_guest</th>\n",
       "      <th>previous_cancellations</th>\n",
       "      <th>previous_bookings_not_canceled</th>\n",
       "      <th>reserved_room_type</th>\n",
       "      <th>assigned_room_type</th>\n",
       "      <th>booking_changes</th>\n",
       "      <th>deposit_type</th>\n",
       "      <th>agent</th>\n",
       "      <th>days_in_waiting_list</th>\n",
       "      <th>customer_type</th>\n",
       "      <th>adr</th>\n",
       "      <th>required_car_parking_spaces</th>\n",
       "      <th>total_of_special_requests</th>\n",
       "      <th>reservation_status</th>\n",
       "      <th>reservation_status_date</th>\n",
       "      <th>guests</th>\n",
       "      <th>room</th>\n",
       "      <th>net_canceled</th>\n",
       "    </tr>\n",
       "  </thead>\n",
       "  <tbody>\n",
       "    <tr>\n",
       "      <th>0</th>\n",
       "      <td>0</td>\n",
       "      <td>0</td>\n",
       "      <td>296.0</td>\n",
       "      <td>2015</td>\n",
       "      <td>7</td>\n",
       "      <td>27</td>\n",
       "      <td>1</td>\n",
       "      <td>0.0</td>\n",
       "      <td>0.0</td>\n",
       "      <td>0</td>\n",
       "      <td>135</td>\n",
       "      <td>3</td>\n",
       "      <td>1</td>\n",
       "      <td>0</td>\n",
       "      <td>0</td>\n",
       "      <td>0</td>\n",
       "      <td>2</td>\n",
       "      <td>2</td>\n",
       "      <td>3</td>\n",
       "      <td>0</td>\n",
       "      <td>0</td>\n",
       "      <td>0</td>\n",
       "      <td>2</td>\n",
       "      <td>0.0</td>\n",
       "      <td>0</td>\n",
       "      <td>0</td>\n",
       "      <td>1</td>\n",
       "      <td>121</td>\n",
       "      <td>2</td>\n",
       "      <td>1</td>\n",
       "      <td>0</td>\n",
       "    </tr>\n",
       "    <tr>\n",
       "      <th>1</th>\n",
       "      <td>0</td>\n",
       "      <td>0</td>\n",
       "      <td>296.0</td>\n",
       "      <td>2015</td>\n",
       "      <td>7</td>\n",
       "      <td>27</td>\n",
       "      <td>1</td>\n",
       "      <td>0.0</td>\n",
       "      <td>0.0</td>\n",
       "      <td>0</td>\n",
       "      <td>135</td>\n",
       "      <td>3</td>\n",
       "      <td>1</td>\n",
       "      <td>0</td>\n",
       "      <td>0</td>\n",
       "      <td>0</td>\n",
       "      <td>2</td>\n",
       "      <td>2</td>\n",
       "      <td>4</td>\n",
       "      <td>0</td>\n",
       "      <td>0</td>\n",
       "      <td>0</td>\n",
       "      <td>2</td>\n",
       "      <td>0.0</td>\n",
       "      <td>0</td>\n",
       "      <td>0</td>\n",
       "      <td>1</td>\n",
       "      <td>121</td>\n",
       "      <td>2</td>\n",
       "      <td>1</td>\n",
       "      <td>0</td>\n",
       "    </tr>\n",
       "    <tr>\n",
       "      <th>2</th>\n",
       "      <td>0</td>\n",
       "      <td>0</td>\n",
       "      <td>7.0</td>\n",
       "      <td>2015</td>\n",
       "      <td>7</td>\n",
       "      <td>27</td>\n",
       "      <td>1</td>\n",
       "      <td>0.0</td>\n",
       "      <td>1.0</td>\n",
       "      <td>0</td>\n",
       "      <td>59</td>\n",
       "      <td>3</td>\n",
       "      <td>1</td>\n",
       "      <td>0</td>\n",
       "      <td>0</td>\n",
       "      <td>0</td>\n",
       "      <td>0</td>\n",
       "      <td>2</td>\n",
       "      <td>0</td>\n",
       "      <td>0</td>\n",
       "      <td>0</td>\n",
       "      <td>0</td>\n",
       "      <td>2</td>\n",
       "      <td>75.0</td>\n",
       "      <td>0</td>\n",
       "      <td>0</td>\n",
       "      <td>1</td>\n",
       "      <td>122</td>\n",
       "      <td>1</td>\n",
       "      <td>0</td>\n",
       "      <td>0</td>\n",
       "    </tr>\n",
       "    <tr>\n",
       "      <th>3</th>\n",
       "      <td>0</td>\n",
       "      <td>0</td>\n",
       "      <td>13.0</td>\n",
       "      <td>2015</td>\n",
       "      <td>7</td>\n",
       "      <td>27</td>\n",
       "      <td>1</td>\n",
       "      <td>0.0</td>\n",
       "      <td>1.0</td>\n",
       "      <td>0</td>\n",
       "      <td>59</td>\n",
       "      <td>2</td>\n",
       "      <td>0</td>\n",
       "      <td>0</td>\n",
       "      <td>0</td>\n",
       "      <td>0</td>\n",
       "      <td>0</td>\n",
       "      <td>0</td>\n",
       "      <td>0</td>\n",
       "      <td>0</td>\n",
       "      <td>304</td>\n",
       "      <td>0</td>\n",
       "      <td>2</td>\n",
       "      <td>75.0</td>\n",
       "      <td>0</td>\n",
       "      <td>0</td>\n",
       "      <td>1</td>\n",
       "      <td>122</td>\n",
       "      <td>1</td>\n",
       "      <td>1</td>\n",
       "      <td>0</td>\n",
       "    </tr>\n",
       "    <tr>\n",
       "      <th>4</th>\n",
       "      <td>0</td>\n",
       "      <td>0</td>\n",
       "      <td>14.0</td>\n",
       "      <td>2015</td>\n",
       "      <td>7</td>\n",
       "      <td>27</td>\n",
       "      <td>1</td>\n",
       "      <td>0.0</td>\n",
       "      <td>2.0</td>\n",
       "      <td>0</td>\n",
       "      <td>59</td>\n",
       "      <td>6</td>\n",
       "      <td>3</td>\n",
       "      <td>0</td>\n",
       "      <td>0</td>\n",
       "      <td>0</td>\n",
       "      <td>0</td>\n",
       "      <td>0</td>\n",
       "      <td>0</td>\n",
       "      <td>0</td>\n",
       "      <td>240</td>\n",
       "      <td>0</td>\n",
       "      <td>2</td>\n",
       "      <td>98.0</td>\n",
       "      <td>0</td>\n",
       "      <td>1</td>\n",
       "      <td>1</td>\n",
       "      <td>123</td>\n",
       "      <td>2</td>\n",
       "      <td>1</td>\n",
       "      <td>0</td>\n",
       "    </tr>\n",
       "  </tbody>\n",
       "</table>\n",
       "</div>"
      ],
      "text/plain": [
       "   hotel  is_canceled  lead_time  arrival_date_year  arrival_date_month  \\\n",
       "0      0            0      296.0               2015                   7   \n",
       "1      0            0      296.0               2015                   7   \n",
       "2      0            0        7.0               2015                   7   \n",
       "3      0            0       13.0               2015                   7   \n",
       "4      0            0       14.0               2015                   7   \n",
       "\n",
       "   arrival_date_week_number  arrival_date_day_of_month  \\\n",
       "0                        27                          1   \n",
       "1                        27                          1   \n",
       "2                        27                          1   \n",
       "3                        27                          1   \n",
       "4                        27                          1   \n",
       "\n",
       "   stays_in_weekend_nights  stays_in_week_nights  meal  country  \\\n",
       "0                      0.0                   0.0     0      135   \n",
       "1                      0.0                   0.0     0      135   \n",
       "2                      0.0                   1.0     0       59   \n",
       "3                      0.0                   1.0     0       59   \n",
       "4                      0.0                   2.0     0       59   \n",
       "\n",
       "   market_segment  distribution_channel  is_repeated_guest  \\\n",
       "0               3                     1                  0   \n",
       "1               3                     1                  0   \n",
       "2               3                     1                  0   \n",
       "3               2                     0                  0   \n",
       "4               6                     3                  0   \n",
       "\n",
       "   previous_cancellations  previous_bookings_not_canceled  reserved_room_type  \\\n",
       "0                       0                               0                   2   \n",
       "1                       0                               0                   2   \n",
       "2                       0                               0                   0   \n",
       "3                       0                               0                   0   \n",
       "4                       0                               0                   0   \n",
       "\n",
       "   assigned_room_type  booking_changes  deposit_type  agent  \\\n",
       "0                   2                3             0      0   \n",
       "1                   2                4             0      0   \n",
       "2                   2                0             0      0   \n",
       "3                   0                0             0    304   \n",
       "4                   0                0             0    240   \n",
       "\n",
       "   days_in_waiting_list  customer_type   adr  required_car_parking_spaces  \\\n",
       "0                     0              2   0.0                            0   \n",
       "1                     0              2   0.0                            0   \n",
       "2                     0              2  75.0                            0   \n",
       "3                     0              2  75.0                            0   \n",
       "4                     0              2  98.0                            0   \n",
       "\n",
       "   total_of_special_requests  reservation_status  reservation_status_date  \\\n",
       "0                          0                   1                      121   \n",
       "1                          0                   1                      121   \n",
       "2                          0                   1                      122   \n",
       "3                          0                   1                      122   \n",
       "4                          1                   1                      123   \n",
       "\n",
       "   guests  room  net_canceled  \n",
       "0       2     1             0  \n",
       "1       2     1             0  \n",
       "2       1     0             0  \n",
       "3       1     1             0  \n",
       "4       2     1             0  "
      ]
     },
     "execution_count": 10,
     "metadata": {},
     "output_type": "execute_result"
    }
   ],
   "source": [
    "data1.head()"
   ]
  },
  {
   "cell_type": "markdown",
   "id": "de3a17c9",
   "metadata": {},
   "source": [
    "## Correlation Analysis"
   ]
  },
  {
   "cell_type": "code",
   "execution_count": 11,
   "id": "7561c217",
   "metadata": {},
   "outputs": [
    {
     "data": {
      "text/plain": [
       "reservation_status               -0.888729\n",
       "required_car_parking_spaces      -0.184519\n",
       "total_of_special_requests        -0.120851\n",
       "booking_changes                  -0.093295\n",
       "is_repeated_guest                -0.088802\n",
       "assigned_room_type               -0.060871\n",
       "previous_bookings_not_canceled   -0.052198\n",
       "reservation_status_date          -0.033078\n",
       "customer_type                    -0.030789\n",
       "agent                            -0.001164\n",
       "arrival_date_week_number          0.001654\n",
       "arrival_date_month                0.003918\n",
       "days_in_waiting_list              0.004699\n",
       "arrival_date_day_of_month         0.005422\n",
       "reserved_room_type                0.047454\n",
       "meal                              0.047993\n",
       "previous_cancellations            0.051491\n",
       "stays_in_weekend_nights           0.060500\n",
       "hotel                             0.072076\n",
       "stays_in_week_nights              0.086744\n",
       "arrival_date_year                 0.088013\n",
       "country                           0.094438\n",
       "guests                            0.098852\n",
       "adr                               0.136499\n",
       "deposit_type                      0.137532\n",
       "distribution_channel              0.150191\n",
       "net_canceled                      0.171711\n",
       "market_segment                    0.181962\n",
       "lead_time                         0.188249\n",
       "room                              0.213306\n",
       "is_canceled                       1.000000\n",
       "Name: is_canceled, dtype: float64"
      ]
     },
     "execution_count": 11,
     "metadata": {},
     "output_type": "execute_result"
    }
   ],
   "source": [
    "data1.corr()[\"is_canceled\"].sort_values()"
   ]
  },
  {
   "cell_type": "code",
   "execution_count": 12,
   "id": "21c3edea",
   "metadata": {},
   "outputs": [
    {
     "data": {
      "text/plain": [
       "<AxesSubplot:>"
      ]
     },
     "execution_count": 12,
     "metadata": {},
     "output_type": "execute_result"
    },
    {
     "data": {
      "image/png": "[encoded data removed]",
      "text/plain": [
       "<Figure size 1800x1440 with 2 Axes>"
      ]
     },
     "metadata": {
      "needs_background": "light"
     },
     "output_type": "display_data"
    }
   ],
   "source": [
    "plt.figure(figsize = (25,20))\n",
    "sns.heatmap(data1.corr(), cmap=\"RdYlGn\", annot=True)"
   ]
  },
  {
   "cell_type": "code",
   "execution_count": 13,
   "id": "4285be1e",
   "metadata": {},
   "outputs": [],
   "source": [
    "# removing columns with negative/low correlation with the target variable\n",
    "data1.drop(['arrival_date_year', 'arrival_date_month', 'arrival_date_day_of_month', 'arrival_date_week_number',\n",
    "            'assigned_room_type','reserved_room_type','previous_cancellations','previous_bookings_not_canceled',\n",
    "            'reservation_status','reservation_status_date', 'stays_in_weekend_nights', 'meal','stays_in_week_nights'],axis=1, inplace=True)"
   ]
  },
  {
   "cell_type": "markdown",
   "id": "6efd4fb9",
   "metadata": {},
   "source": [
    "#### Chi2 Test for feature selection\n",
    "* Null Hypothesis - There is no relation between the dependent and independent variable\n",
    "* Alternate Hypothesis - There is a relation between the dependent and indenpendent variable"
   ]
  },
  {
   "cell_type": "code",
   "execution_count": 18,
   "id": "65914362",
   "metadata": {},
   "outputs": [
    {
     "data": {
      "text/plain": [
       "6    51550\n",
       "5    13852\n",
       "3    11774\n",
       "4     4920\n",
       "2     4190\n",
       "1      692\n",
       "0      226\n",
       "Name: market_segment, dtype: int64"
      ]
     },
     "execution_count": 18,
     "metadata": {},
     "output_type": "execute_result"
    }
   ],
   "source": [
    "# Market Segment\n",
    "data1['market_segment'].value_counts()"
   ]
  },
  {
   "cell_type": "code",
   "execution_count": 19,
   "id": "9d9a5508",
   "metadata": {},
   "outputs": [
    {
     "data": {
      "text/html": [
       "<div>\n",
       "<style scoped>\n",
       "    .dataframe tbody tr th:only-of-type {\n",
       "        vertical-align: middle;\n",
       "    }\n",
       "\n",
       "    .dataframe tbody tr th {\n",
       "        vertical-align: top;\n",
       "    }\n",
       "\n",
       "    .dataframe thead th {\n",
       "        text-align: right;\n",
       "    }\n",
       "</style>\n",
       "<table border=\"1\" class=\"dataframe\">\n",
       "  <thead>\n",
       "    <tr style=\"text-align: right;\">\n",
       "      <th>is_canceled</th>\n",
       "      <th>0</th>\n",
       "      <th>1</th>\n",
       "    </tr>\n",
       "    <tr>\n",
       "      <th>market_segment</th>\n",
       "      <th></th>\n",
       "      <th></th>\n",
       "    </tr>\n",
       "  </thead>\n",
       "  <tbody>\n",
       "    <tr>\n",
       "      <th>0</th>\n",
       "      <td>181</td>\n",
       "      <td>45</td>\n",
       "    </tr>\n",
       "    <tr>\n",
       "      <th>1</th>\n",
       "      <td>607</td>\n",
       "      <td>85</td>\n",
       "    </tr>\n",
       "    <tr>\n",
       "      <th>2</th>\n",
       "      <td>3681</td>\n",
       "      <td>509</td>\n",
       "    </tr>\n",
       "    <tr>\n",
       "      <th>3</th>\n",
       "      <td>10037</td>\n",
       "      <td>1737</td>\n",
       "    </tr>\n",
       "    <tr>\n",
       "      <th>4</th>\n",
       "      <td>3588</td>\n",
       "      <td>1332</td>\n",
       "    </tr>\n",
       "    <tr>\n",
       "      <th>5</th>\n",
       "      <td>11796</td>\n",
       "      <td>2056</td>\n",
       "    </tr>\n",
       "    <tr>\n",
       "      <th>6</th>\n",
       "      <td>33306</td>\n",
       "      <td>18244</td>\n",
       "    </tr>\n",
       "  </tbody>\n",
       "</table>\n",
       "</div>"
      ],
      "text/plain": [
       "is_canceled         0      1\n",
       "market_segment              \n",
       "0                 181     45\n",
       "1                 607     85\n",
       "2                3681    509\n",
       "3               10037   1737\n",
       "4                3588   1332\n",
       "5               11796   2056\n",
       "6               33306  18244"
      ]
     },
     "execution_count": 19,
     "metadata": {},
     "output_type": "execute_result"
    }
   ],
   "source": [
    "market_crosstab = pd.crosstab(index=data1['market_segment'], columns = data1['is_canceled'])\n",
    "market_crosstab"
   ]
  },
  {
   "cell_type": "code",
   "execution_count": 20,
   "id": "c39aac38",
   "metadata": {},
   "outputs": [
    {
     "name": "stdout",
     "output_type": "stream",
     "text": [
      "chi2      :  4262.247275182155\n",
      "p-value   :  0.0\n",
      "Degree of Freedom:  6\n"
     ]
    }
   ],
   "source": [
    "from scipy import stats\n",
    "(chi2, p , dof,_) = stats.chi2_contingency([market_crosstab.iloc[0].values, market_crosstab.iloc[1].values, market_crosstab.iloc[2].values, market_crosstab.iloc[3].values, market_crosstab.iloc[4].values, market_crosstab.iloc[5].values, market_crosstab.iloc[6].values])\n",
    "print(\"chi2      : \", chi2)\n",
    "print(\"p-value   : \", p)\n",
    "print(\"Degree of Freedom: \", dof)"
   ]
  },
  {
   "cell_type": "markdown",
   "id": "f4d34576",
   "metadata": {},
   "source": [
    "p<0.05, there is a relation between the two variables!"
   ]
  },
  {
   "cell_type": "code",
   "execution_count": 21,
   "id": "a0bffae6",
   "metadata": {},
   "outputs": [
    {
     "data": {
      "text/plain": [
       "3    69025\n",
       "1    12946\n",
       "0     5052\n",
       "2      181\n",
       "Name: distribution_channel, dtype: int64"
      ]
     },
     "execution_count": 21,
     "metadata": {},
     "output_type": "execute_result"
    }
   ],
   "source": [
    "# Distribution Channel\n",
    "data1['distribution_channel'].value_counts()"
   ]
  },
  {
   "cell_type": "code",
   "execution_count": 22,
   "id": "f185f369",
   "metadata": {},
   "outputs": [
    {
     "data": {
      "text/html": [
       "<div>\n",
       "<style scoped>\n",
       "    .dataframe tbody tr th:only-of-type {\n",
       "        vertical-align: middle;\n",
       "    }\n",
       "\n",
       "    .dataframe tbody tr th {\n",
       "        vertical-align: top;\n",
       "    }\n",
       "\n",
       "    .dataframe thead th {\n",
       "        text-align: right;\n",
       "    }\n",
       "</style>\n",
       "<table border=\"1\" class=\"dataframe\">\n",
       "  <thead>\n",
       "    <tr style=\"text-align: right;\">\n",
       "      <th>is_canceled</th>\n",
       "      <th>0</th>\n",
       "      <th>1</th>\n",
       "    </tr>\n",
       "    <tr>\n",
       "      <th>distribution_channel</th>\n",
       "      <th></th>\n",
       "      <th></th>\n",
       "    </tr>\n",
       "  </thead>\n",
       "  <tbody>\n",
       "    <tr>\n",
       "      <th>0</th>\n",
       "      <td>4406</td>\n",
       "      <td>646</td>\n",
       "    </tr>\n",
       "    <tr>\n",
       "      <th>1</th>\n",
       "      <td>11023</td>\n",
       "      <td>1923</td>\n",
       "    </tr>\n",
       "    <tr>\n",
       "      <th>2</th>\n",
       "      <td>145</td>\n",
       "      <td>36</td>\n",
       "    </tr>\n",
       "    <tr>\n",
       "      <th>3</th>\n",
       "      <td>47622</td>\n",
       "      <td>21403</td>\n",
       "    </tr>\n",
       "  </tbody>\n",
       "</table>\n",
       "</div>"
      ],
      "text/plain": [
       "is_canceled               0      1\n",
       "distribution_channel              \n",
       "0                      4406    646\n",
       "1                     11023   1923\n",
       "2                       145     36\n",
       "3                     47622  21403"
      ]
     },
     "execution_count": 22,
     "metadata": {},
     "output_type": "execute_result"
    }
   ],
   "source": [
    "dist_crosstab = pd.crosstab(index=data1['distribution_channel'], columns = data1['is_canceled'])\n",
    "dist_crosstab"
   ]
  },
  {
   "cell_type": "code",
   "execution_count": 23,
   "id": "36bb1b96",
   "metadata": {},
   "outputs": [
    {
     "name": "stdout",
     "output_type": "stream",
     "text": [
      "chi2      :  2016.6985878001992\n",
      "p-value   :  0.0\n",
      "Degree of Freedom:  3\n"
     ]
    }
   ],
   "source": [
    "(chi2, p , dof,_) = stats.chi2_contingency([dist_crosstab.iloc[0].values, dist_crosstab.iloc[1].values, dist_crosstab.iloc[2].values, dist_crosstab.iloc[3].values])\n",
    "print(\"chi2      : \", chi2)\n",
    "print(\"p-value   : \", p)\n",
    "print(\"Degree of Freedom: \", dof)"
   ]
  },
  {
   "cell_type": "markdown",
   "id": "0eeceb57",
   "metadata": {},
   "source": [
    "p<0.05, there is a relation between the two variables!"
   ]
  },
  {
   "cell_type": "code",
   "execution_count": 24,
   "id": "e676be12",
   "metadata": {},
   "outputs": [
    {
     "data": {
      "text/plain": [
       "0    83840\n",
       "1     3364\n",
       "Name: is_repeated_guest, dtype: int64"
      ]
     },
     "execution_count": 24,
     "metadata": {},
     "output_type": "execute_result"
    }
   ],
   "source": [
    "# Repeated Guests\n",
    "data1['is_repeated_guest'].value_counts()"
   ]
  },
  {
   "cell_type": "code",
   "execution_count": 25,
   "id": "961dd5ca",
   "metadata": {},
   "outputs": [
    {
     "data": {
      "text/html": [
       "<div>\n",
       "<style scoped>\n",
       "    .dataframe tbody tr th:only-of-type {\n",
       "        vertical-align: middle;\n",
       "    }\n",
       "\n",
       "    .dataframe tbody tr th {\n",
       "        vertical-align: top;\n",
       "    }\n",
       "\n",
       "    .dataframe thead th {\n",
       "        text-align: right;\n",
       "    }\n",
       "</style>\n",
       "<table border=\"1\" class=\"dataframe\">\n",
       "  <thead>\n",
       "    <tr style=\"text-align: right;\">\n",
       "      <th>is_canceled</th>\n",
       "      <th>0</th>\n",
       "      <th>1</th>\n",
       "    </tr>\n",
       "    <tr>\n",
       "      <th>is_repeated_guest</th>\n",
       "      <th></th>\n",
       "      <th></th>\n",
       "    </tr>\n",
       "  </thead>\n",
       "  <tbody>\n",
       "    <tr>\n",
       "      <th>0</th>\n",
       "      <td>60092</td>\n",
       "      <td>23748</td>\n",
       "    </tr>\n",
       "    <tr>\n",
       "      <th>1</th>\n",
       "      <td>3104</td>\n",
       "      <td>260</td>\n",
       "    </tr>\n",
       "  </tbody>\n",
       "</table>\n",
       "</div>"
      ],
      "text/plain": [
       "is_canceled            0      1\n",
       "is_repeated_guest              \n",
       "0                  60092  23748\n",
       "1                   3104    260"
      ]
     },
     "execution_count": 25,
     "metadata": {},
     "output_type": "execute_result"
    }
   ],
   "source": [
    "repeatguest_crosstab = pd.crosstab(index=data1['is_repeated_guest'], columns = data1['is_canceled'])\n",
    "repeatguest_crosstab"
   ]
  },
  {
   "cell_type": "code",
   "execution_count": 26,
   "id": "127faa64",
   "metadata": {},
   "outputs": [
    {
     "name": "stdout",
     "output_type": "stream",
     "text": [
      "chi2      :  686.6449207656797\n",
      "p-value   :  2.3982458220598675e-151\n",
      "Degree of Freedom:  1\n"
     ]
    }
   ],
   "source": [
    "(chi2, p , dof,_) = stats.chi2_contingency([repeatguest_crosstab.iloc[0].values, repeatguest_crosstab.iloc[1].values])\n",
    "print(\"chi2      : \", chi2)\n",
    "print(\"p-value   : \", p)\n",
    "print(\"Degree of Freedom: \", dof)"
   ]
  },
  {
   "cell_type": "markdown",
   "id": "423ec72c",
   "metadata": {},
   "source": [
    "p<0.05, there is a relation between the two variables!"
   ]
  },
  {
   "cell_type": "code",
   "execution_count": 27,
   "id": "71a64378",
   "metadata": {},
   "outputs": [
    {
     "data": {
      "text/plain": [
       "0     71400\n",
       "1     10867\n",
       "2      3483\n",
       "3       862\n",
       "4       347\n",
       "5       113\n",
       "6        57\n",
       "7        29\n",
       "8        14\n",
       "9         8\n",
       "10        6\n",
       "13        5\n",
       "14        3\n",
       "15        3\n",
       "16        2\n",
       "17        2\n",
       "11        1\n",
       "12        1\n",
       "18        1\n",
       "Name: booking_changes, dtype: int64"
      ]
     },
     "execution_count": 27,
     "metadata": {},
     "output_type": "execute_result"
    }
   ],
   "source": [
    "# Booking Changes\n",
    "data1['booking_changes'].value_counts()"
   ]
  },
  {
   "cell_type": "code",
   "execution_count": 28,
   "id": "d78a06df",
   "metadata": {},
   "outputs": [
    {
     "data": {
      "text/html": [
       "<div>\n",
       "<style scoped>\n",
       "    .dataframe tbody tr th:only-of-type {\n",
       "        vertical-align: middle;\n",
       "    }\n",
       "\n",
       "    .dataframe tbody tr th {\n",
       "        vertical-align: top;\n",
       "    }\n",
       "\n",
       "    .dataframe thead th {\n",
       "        text-align: right;\n",
       "    }\n",
       "</style>\n",
       "<table border=\"1\" class=\"dataframe\">\n",
       "  <thead>\n",
       "    <tr style=\"text-align: right;\">\n",
       "      <th>is_canceled</th>\n",
       "      <th>0</th>\n",
       "      <th>1</th>\n",
       "    </tr>\n",
       "    <tr>\n",
       "      <th>booking_changes</th>\n",
       "      <th></th>\n",
       "      <th></th>\n",
       "    </tr>\n",
       "  </thead>\n",
       "  <tbody>\n",
       "    <tr>\n",
       "      <th>0</th>\n",
       "      <td>49846</td>\n",
       "      <td>21554</td>\n",
       "    </tr>\n",
       "    <tr>\n",
       "      <th>1</th>\n",
       "      <td>9359</td>\n",
       "      <td>1508</td>\n",
       "    </tr>\n",
       "    <tr>\n",
       "      <th>2</th>\n",
       "      <td>2779</td>\n",
       "      <td>704</td>\n",
       "    </tr>\n",
       "    <tr>\n",
       "      <th>3</th>\n",
       "      <td>731</td>\n",
       "      <td>131</td>\n",
       "    </tr>\n",
       "    <tr>\n",
       "      <th>4</th>\n",
       "      <td>284</td>\n",
       "      <td>63</td>\n",
       "    </tr>\n",
       "    <tr>\n",
       "      <th>5</th>\n",
       "      <td>93</td>\n",
       "      <td>20</td>\n",
       "    </tr>\n",
       "    <tr>\n",
       "      <th>6</th>\n",
       "      <td>40</td>\n",
       "      <td>17</td>\n",
       "    </tr>\n",
       "    <tr>\n",
       "      <th>7</th>\n",
       "      <td>26</td>\n",
       "      <td>3</td>\n",
       "    </tr>\n",
       "    <tr>\n",
       "      <th>8</th>\n",
       "      <td>10</td>\n",
       "      <td>4</td>\n",
       "    </tr>\n",
       "    <tr>\n",
       "      <th>9</th>\n",
       "      <td>7</td>\n",
       "      <td>1</td>\n",
       "    </tr>\n",
       "    <tr>\n",
       "      <th>10</th>\n",
       "      <td>5</td>\n",
       "      <td>1</td>\n",
       "    </tr>\n",
       "    <tr>\n",
       "      <th>11</th>\n",
       "      <td>1</td>\n",
       "      <td>0</td>\n",
       "    </tr>\n",
       "    <tr>\n",
       "      <th>12</th>\n",
       "      <td>1</td>\n",
       "      <td>0</td>\n",
       "    </tr>\n",
       "    <tr>\n",
       "      <th>13</th>\n",
       "      <td>5</td>\n",
       "      <td>0</td>\n",
       "    </tr>\n",
       "    <tr>\n",
       "      <th>14</th>\n",
       "      <td>2</td>\n",
       "      <td>1</td>\n",
       "    </tr>\n",
       "    <tr>\n",
       "      <th>15</th>\n",
       "      <td>3</td>\n",
       "      <td>0</td>\n",
       "    </tr>\n",
       "    <tr>\n",
       "      <th>16</th>\n",
       "      <td>1</td>\n",
       "      <td>1</td>\n",
       "    </tr>\n",
       "    <tr>\n",
       "      <th>17</th>\n",
       "      <td>2</td>\n",
       "      <td>0</td>\n",
       "    </tr>\n",
       "    <tr>\n",
       "      <th>18</th>\n",
       "      <td>1</td>\n",
       "      <td>0</td>\n",
       "    </tr>\n",
       "  </tbody>\n",
       "</table>\n",
       "</div>"
      ],
      "text/plain": [
       "is_canceled          0      1\n",
       "booking_changes              \n",
       "0                49846  21554\n",
       "1                 9359   1508\n",
       "2                 2779    704\n",
       "3                  731    131\n",
       "4                  284     63\n",
       "5                   93     20\n",
       "6                   40     17\n",
       "7                   26      3\n",
       "8                   10      4\n",
       "9                    7      1\n",
       "10                   5      1\n",
       "11                   1      0\n",
       "12                   1      0\n",
       "13                   5      0\n",
       "14                   2      1\n",
       "15                   3      0\n",
       "16                   1      1\n",
       "17                   2      0\n",
       "18                   1      0"
      ]
     },
     "execution_count": 28,
     "metadata": {},
     "output_type": "execute_result"
    }
   ],
   "source": [
    "bookingchange_crosstab = pd.crosstab(index=data1['booking_changes'], columns = data1['is_canceled'])\n",
    "bookingchange_crosstab"
   ]
  },
  {
   "cell_type": "code",
   "execution_count": 29,
   "id": "495faa8a",
   "metadata": {},
   "outputs": [
    {
     "name": "stdout",
     "output_type": "stream",
     "text": [
      "chi2      :  1459.2444083551475\n",
      "p-value   :  2.711116414020724e-299\n",
      "Degree of Freedom:  18\n"
     ]
    }
   ],
   "source": [
    "(chi2, p , dof,_) = stats.chi2_contingency([bookingchange_crosstab.iloc[0].values, bookingchange_crosstab.iloc[1].values, bookingchange_crosstab.iloc[2].values, bookingchange_crosstab.iloc[3].values, bookingchange_crosstab.iloc[4].values,bookingchange_crosstab.iloc[5].values,bookingchange_crosstab.iloc[6].values,bookingchange_crosstab.iloc[7].values,bookingchange_crosstab.iloc[8].values,bookingchange_crosstab.iloc[9].values, bookingchange_crosstab.iloc[10].values,bookingchange_crosstab.iloc[11].values,bookingchange_crosstab.iloc[12].values, bookingchange_crosstab.iloc[13].values, bookingchange_crosstab.iloc[14].values, bookingchange_crosstab.iloc[15].values, bookingchange_crosstab.iloc[16].values, bookingchange_crosstab.iloc[17].values, bookingchange_crosstab.iloc[18].values])\n",
    "print(\"chi2      : \", chi2)\n",
    "print(\"p-value   : \", p)\n",
    "print(\"Degree of Freedom: \", dof)"
   ]
  },
  {
   "cell_type": "markdown",
   "id": "50d58a53",
   "metadata": {},
   "source": [
    "p<0.05, there is a relation between the variables!"
   ]
  },
  {
   "cell_type": "code",
   "execution_count": 30,
   "id": "2a13111c",
   "metadata": {},
   "outputs": [
    {
     "data": {
      "text/plain": [
       "0    86059\n",
       "1     1038\n",
       "2      107\n",
       "Name: deposit_type, dtype: int64"
      ]
     },
     "execution_count": 30,
     "metadata": {},
     "output_type": "execute_result"
    }
   ],
   "source": [
    "# Deposit Type\n",
    "data1['deposit_type'].value_counts()"
   ]
  },
  {
   "cell_type": "code",
   "execution_count": 31,
   "id": "3ac0669d",
   "metadata": {},
   "outputs": [
    {
     "data": {
      "text/html": [
       "<div>\n",
       "<style scoped>\n",
       "    .dataframe tbody tr th:only-of-type {\n",
       "        vertical-align: middle;\n",
       "    }\n",
       "\n",
       "    .dataframe tbody tr th {\n",
       "        vertical-align: top;\n",
       "    }\n",
       "\n",
       "    .dataframe thead th {\n",
       "        text-align: right;\n",
       "    }\n",
       "</style>\n",
       "<table border=\"1\" class=\"dataframe\">\n",
       "  <thead>\n",
       "    <tr style=\"text-align: right;\">\n",
       "      <th>is_canceled</th>\n",
       "      <th>0</th>\n",
       "      <th>1</th>\n",
       "    </tr>\n",
       "    <tr>\n",
       "      <th>deposit_type</th>\n",
       "      <th></th>\n",
       "      <th></th>\n",
       "    </tr>\n",
       "  </thead>\n",
       "  <tbody>\n",
       "    <tr>\n",
       "      <th>0</th>\n",
       "      <td>63060</td>\n",
       "      <td>22999</td>\n",
       "    </tr>\n",
       "    <tr>\n",
       "      <th>1</th>\n",
       "      <td>55</td>\n",
       "      <td>983</td>\n",
       "    </tr>\n",
       "    <tr>\n",
       "      <th>2</th>\n",
       "      <td>81</td>\n",
       "      <td>26</td>\n",
       "    </tr>\n",
       "  </tbody>\n",
       "</table>\n",
       "</div>"
      ],
      "text/plain": [
       "is_canceled       0      1\n",
       "deposit_type              \n",
       "0             63060  22999\n",
       "1                55    983\n",
       "2                81     26"
      ]
     },
     "execution_count": 31,
     "metadata": {},
     "output_type": "execute_result"
    }
   ],
   "source": [
    "deposit_crosstab = pd.crosstab(index=data1['deposit_type'], columns = data1['is_canceled'])\n",
    "deposit_crosstab"
   ]
  },
  {
   "cell_type": "code",
   "execution_count": 32,
   "id": "5a7d778c",
   "metadata": {},
   "outputs": [
    {
     "name": "stdout",
     "output_type": "stream",
     "text": [
      "chi2      :  2375.9640108751487\n",
      "p-value   :  0.0\n",
      "Degree of Freedom:  2\n"
     ]
    }
   ],
   "source": [
    "(chi2, p , dof,_) = stats.chi2_contingency([deposit_crosstab.iloc[0].values, deposit_crosstab.iloc[1].values, deposit_crosstab.iloc[2].values])\n",
    "print(\"chi2      : \", chi2)\n",
    "print(\"p-value   : \", p)\n",
    "print(\"Degree of Freedom: \", dof)"
   ]
  },
  {
   "cell_type": "markdown",
   "id": "75d5fe09",
   "metadata": {},
   "source": [
    "p<0.05, there is a relation between the variables!"
   ]
  },
  {
   "cell_type": "code",
   "execution_count": 33,
   "id": "c8f64fce",
   "metadata": {},
   "outputs": [
    {
     "data": {
      "text/plain": [
       "2    71844\n",
       "3    11684\n",
       "0     3135\n",
       "1      541\n",
       "Name: customer_type, dtype: int64"
      ]
     },
     "execution_count": 33,
     "metadata": {},
     "output_type": "execute_result"
    }
   ],
   "source": [
    "# Customer Type\n",
    "data1['customer_type'].value_counts()"
   ]
  },
  {
   "cell_type": "code",
   "execution_count": 34,
   "id": "1809c89c",
   "metadata": {},
   "outputs": [
    {
     "data": {
      "text/html": [
       "<div>\n",
       "<style scoped>\n",
       "    .dataframe tbody tr th:only-of-type {\n",
       "        vertical-align: middle;\n",
       "    }\n",
       "\n",
       "    .dataframe tbody tr th {\n",
       "        vertical-align: top;\n",
       "    }\n",
       "\n",
       "    .dataframe thead th {\n",
       "        text-align: right;\n",
       "    }\n",
       "</style>\n",
       "<table border=\"1\" class=\"dataframe\">\n",
       "  <thead>\n",
       "    <tr style=\"text-align: right;\">\n",
       "      <th>is_canceled</th>\n",
       "      <th>0</th>\n",
       "      <th>1</th>\n",
       "    </tr>\n",
       "    <tr>\n",
       "      <th>customer_type</th>\n",
       "      <th></th>\n",
       "      <th></th>\n",
       "    </tr>\n",
       "  </thead>\n",
       "  <tbody>\n",
       "    <tr>\n",
       "      <th>0</th>\n",
       "      <td>2623</td>\n",
       "      <td>512</td>\n",
       "    </tr>\n",
       "    <tr>\n",
       "      <th>1</th>\n",
       "      <td>488</td>\n",
       "      <td>53</td>\n",
       "    </tr>\n",
       "    <tr>\n",
       "      <th>2</th>\n",
       "      <td>50184</td>\n",
       "      <td>21660</td>\n",
       "    </tr>\n",
       "    <tr>\n",
       "      <th>3</th>\n",
       "      <td>9901</td>\n",
       "      <td>1783</td>\n",
       "    </tr>\n",
       "  </tbody>\n",
       "</table>\n",
       "</div>"
      ],
      "text/plain": [
       "is_canceled        0      1\n",
       "customer_type              \n",
       "0               2623    512\n",
       "1                488     53\n",
       "2              50184  21660\n",
       "3               9901   1783"
      ]
     },
     "execution_count": 34,
     "metadata": {},
     "output_type": "execute_result"
    }
   ],
   "source": [
    "customer_type_crosstab = pd.crosstab(index=data1['customer_type'], columns=data1['is_canceled'])\n",
    "customer_type_crosstab"
   ]
  },
  {
   "cell_type": "code",
   "execution_count": 35,
   "id": "cf0761dc",
   "metadata": {},
   "outputs": [
    {
     "name": "stdout",
     "output_type": "stream",
     "text": [
      "chi2      :  1410.8944663887823\n",
      "p-value   :  1.2739552260826374e-305\n",
      "Degree of Freedom:  3\n"
     ]
    }
   ],
   "source": [
    "(chi2, p , dof,_) = stats.chi2_contingency([customer_type_crosstab.iloc[0].values, customer_type_crosstab.iloc[1].values, customer_type_crosstab.iloc[2].values, customer_type_crosstab.iloc[3].values])\n",
    "print(\"chi2      : \", chi2)\n",
    "print(\"p-value   : \", p)\n",
    "print(\"Degree of Freedom: \", dof)"
   ]
  },
  {
   "cell_type": "markdown",
   "id": "617ea83f",
   "metadata": {},
   "source": [
    "p<0.05, there is a relation between the variables!"
   ]
  },
  {
   "cell_type": "code",
   "execution_count": 36,
   "id": "0b1facbd",
   "metadata": {},
   "outputs": [
    {
     "data": {
      "text/plain": [
       "0    79898\n",
       "1     7273\n",
       "2       28\n",
       "3        3\n",
       "8        2\n",
       "Name: required_car_parking_spaces, dtype: int64"
      ]
     },
     "execution_count": 36,
     "metadata": {},
     "output_type": "execute_result"
    }
   ],
   "source": [
    "# Required Car Parking Spaces\n",
    "data1['required_car_parking_spaces'].value_counts()"
   ]
  },
  {
   "cell_type": "code",
   "execution_count": 37,
   "id": "d01db001",
   "metadata": {},
   "outputs": [
    {
     "data": {
      "text/html": [
       "<div>\n",
       "<style scoped>\n",
       "    .dataframe tbody tr th:only-of-type {\n",
       "        vertical-align: middle;\n",
       "    }\n",
       "\n",
       "    .dataframe tbody tr th {\n",
       "        vertical-align: top;\n",
       "    }\n",
       "\n",
       "    .dataframe thead th {\n",
       "        text-align: right;\n",
       "    }\n",
       "</style>\n",
       "<table border=\"1\" class=\"dataframe\">\n",
       "  <thead>\n",
       "    <tr style=\"text-align: right;\">\n",
       "      <th>is_canceled</th>\n",
       "      <th>0</th>\n",
       "      <th>1</th>\n",
       "    </tr>\n",
       "    <tr>\n",
       "      <th>required_car_parking_spaces</th>\n",
       "      <th></th>\n",
       "      <th></th>\n",
       "    </tr>\n",
       "  </thead>\n",
       "  <tbody>\n",
       "    <tr>\n",
       "      <th>0</th>\n",
       "      <td>55890</td>\n",
       "      <td>24008</td>\n",
       "    </tr>\n",
       "    <tr>\n",
       "      <th>1</th>\n",
       "      <td>7273</td>\n",
       "      <td>0</td>\n",
       "    </tr>\n",
       "    <tr>\n",
       "      <th>2</th>\n",
       "      <td>28</td>\n",
       "      <td>0</td>\n",
       "    </tr>\n",
       "    <tr>\n",
       "      <th>3</th>\n",
       "      <td>3</td>\n",
       "      <td>0</td>\n",
       "    </tr>\n",
       "    <tr>\n",
       "      <th>8</th>\n",
       "      <td>2</td>\n",
       "      <td>0</td>\n",
       "    </tr>\n",
       "  </tbody>\n",
       "</table>\n",
       "</div>"
      ],
      "text/plain": [
       "is_canceled                      0      1\n",
       "required_car_parking_spaces              \n",
       "0                            55890  24008\n",
       "1                             7273      0\n",
       "2                               28      0\n",
       "3                                3      0\n",
       "8                                2      0"
      ]
     },
     "execution_count": 37,
     "metadata": {},
     "output_type": "execute_result"
    }
   ],
   "source": [
    "car_crosstab = pd.crosstab(index=data1['required_car_parking_spaces'], columns=data1['is_canceled'])\n",
    "car_crosstab"
   ]
  },
  {
   "cell_type": "code",
   "execution_count": 38,
   "id": "37796531",
   "metadata": {},
   "outputs": [
    {
     "name": "stdout",
     "output_type": "stream",
     "text": [
      "chi2      :  3028.5269214149557\n",
      "p-value   :  0.0\n",
      "Degree of Freedom:  3\n"
     ]
    }
   ],
   "source": [
    "(chi2, p , dof,_) = stats.chi2_contingency([car_crosstab.iloc[0].values, car_crosstab.iloc[1].values, car_crosstab.iloc[2].values, car_crosstab.iloc[3].values], car_crosstab.iloc[4])\n",
    "print(\"chi2      : \", chi2)\n",
    "print(\"p-value   : \", p)\n",
    "print(\"Degree of Freedom: \", dof)"
   ]
  },
  {
   "cell_type": "markdown",
   "id": "683ecbe6",
   "metadata": {},
   "source": [
    "p<0.05, there is a relation between the two variables!"
   ]
  },
  {
   "cell_type": "code",
   "execution_count": 39,
   "id": "2260d944",
   "metadata": {},
   "outputs": [
    {
     "data": {
      "text/plain": [
       "0    43771\n",
       "1    28971\n",
       "2    11793\n",
       "3     2313\n",
       "4      320\n",
       "5       36\n",
       "Name: total_of_special_requests, dtype: int64"
      ]
     },
     "execution_count": 39,
     "metadata": {},
     "output_type": "execute_result"
    }
   ],
   "source": [
    "# Special Request\n",
    "data1['total_of_special_requests'].value_counts()"
   ]
  },
  {
   "cell_type": "code",
   "execution_count": 40,
   "id": "f49b085e",
   "metadata": {},
   "outputs": [
    {
     "data": {
      "text/html": [
       "<div>\n",
       "<style scoped>\n",
       "    .dataframe tbody tr th:only-of-type {\n",
       "        vertical-align: middle;\n",
       "    }\n",
       "\n",
       "    .dataframe tbody tr th {\n",
       "        vertical-align: top;\n",
       "    }\n",
       "\n",
       "    .dataframe thead th {\n",
       "        text-align: right;\n",
       "    }\n",
       "</style>\n",
       "<table border=\"1\" class=\"dataframe\">\n",
       "  <thead>\n",
       "    <tr style=\"text-align: right;\">\n",
       "      <th>is_canceled</th>\n",
       "      <th>0</th>\n",
       "      <th>1</th>\n",
       "    </tr>\n",
       "    <tr>\n",
       "      <th>total_of_special_requests</th>\n",
       "      <th></th>\n",
       "      <th></th>\n",
       "    </tr>\n",
       "  </thead>\n",
       "  <tbody>\n",
       "    <tr>\n",
       "      <th>0</th>\n",
       "      <td>29211</td>\n",
       "      <td>14560</td>\n",
       "    </tr>\n",
       "    <tr>\n",
       "      <th>1</th>\n",
       "      <td>22470</td>\n",
       "      <td>6501</td>\n",
       "    </tr>\n",
       "    <tr>\n",
       "      <th>2</th>\n",
       "      <td>9278</td>\n",
       "      <td>2515</td>\n",
       "    </tr>\n",
       "    <tr>\n",
       "      <th>3</th>\n",
       "      <td>1917</td>\n",
       "      <td>396</td>\n",
       "    </tr>\n",
       "    <tr>\n",
       "      <th>4</th>\n",
       "      <td>286</td>\n",
       "      <td>34</td>\n",
       "    </tr>\n",
       "    <tr>\n",
       "      <th>5</th>\n",
       "      <td>34</td>\n",
       "      <td>2</td>\n",
       "    </tr>\n",
       "  </tbody>\n",
       "</table>\n",
       "</div>"
      ],
      "text/plain": [
       "is_canceled                    0      1\n",
       "total_of_special_requests              \n",
       "0                          29211  14560\n",
       "1                          22470   6501\n",
       "2                           9278   2515\n",
       "3                           1917    396\n",
       "4                            286     34\n",
       "5                             34      2"
      ]
     },
     "execution_count": 40,
     "metadata": {},
     "output_type": "execute_result"
    }
   ],
   "source": [
    "sprequest_crosstab = pd.crosstab(index=data1['total_of_special_requests'], columns=data1['is_canceled'])\n",
    "sprequest_crosstab"
   ]
  },
  {
   "cell_type": "code",
   "execution_count": 41,
   "id": "6fc5feca",
   "metadata": {},
   "outputs": [
    {
     "name": "stdout",
     "output_type": "stream",
     "text": [
      "chi2      :  1505.2427713344598\n",
      "p-value   :  0.0\n",
      "Degree of Freedom:  5\n"
     ]
    }
   ],
   "source": [
    "(chi2, p , dof,_) = stats.chi2_contingency([sprequest_crosstab.iloc[0].values, sprequest_crosstab.iloc[1].values, sprequest_crosstab.iloc[2].values, sprequest_crosstab.iloc[3].values, sprequest_crosstab.iloc[4].values, sprequest_crosstab.iloc[5].values])\n",
    "print(\"chi2      : \", chi2)\n",
    "print(\"p-value   : \", p)\n",
    "print(\"Degree of Freedom: \", dof)"
   ]
  },
  {
   "cell_type": "markdown",
   "id": "bb9197f2",
   "metadata": {},
   "source": [
    "p<0.05, there is a relation between the variables!"
   ]
  },
  {
   "cell_type": "code",
   "execution_count": 42,
   "id": "b078c7b0",
   "metadata": {},
   "outputs": [
    {
     "data": {
      "text/plain": [
       "1    74225\n",
       "0    12979\n",
       "Name: room, dtype: int64"
      ]
     },
     "execution_count": 42,
     "metadata": {},
     "output_type": "execute_result"
    }
   ],
   "source": [
    "# room\n",
    "data1['room'].value_counts()"
   ]
  },
  {
   "cell_type": "code",
   "execution_count": 43,
   "id": "04907b96",
   "metadata": {},
   "outputs": [
    {
     "data": {
      "text/html": [
       "<div>\n",
       "<style scoped>\n",
       "    .dataframe tbody tr th:only-of-type {\n",
       "        vertical-align: middle;\n",
       "    }\n",
       "\n",
       "    .dataframe tbody tr th {\n",
       "        vertical-align: top;\n",
       "    }\n",
       "\n",
       "    .dataframe thead th {\n",
       "        text-align: right;\n",
       "    }\n",
       "</style>\n",
       "<table border=\"1\" class=\"dataframe\">\n",
       "  <thead>\n",
       "    <tr style=\"text-align: right;\">\n",
       "      <th>is_canceled</th>\n",
       "      <th>0</th>\n",
       "      <th>1</th>\n",
       "    </tr>\n",
       "    <tr>\n",
       "      <th>room</th>\n",
       "      <th></th>\n",
       "      <th></th>\n",
       "    </tr>\n",
       "  </thead>\n",
       "  <tbody>\n",
       "    <tr>\n",
       "      <th>0</th>\n",
       "      <td>12363</td>\n",
       "      <td>616</td>\n",
       "    </tr>\n",
       "    <tr>\n",
       "      <th>1</th>\n",
       "      <td>50833</td>\n",
       "      <td>23392</td>\n",
       "    </tr>\n",
       "  </tbody>\n",
       "</table>\n",
       "</div>"
      ],
      "text/plain": [
       "is_canceled      0      1\n",
       "room                     \n",
       "0            12363    616\n",
       "1            50833  23392"
      ]
     },
     "execution_count": 43,
     "metadata": {},
     "output_type": "execute_result"
    }
   ],
   "source": [
    "room_crosstab = pd.crosstab(index=data1['room'], columns=data1['is_canceled'])\n",
    "room_crosstab"
   ]
  },
  {
   "cell_type": "code",
   "execution_count": 44,
   "id": "b465937f",
   "metadata": {},
   "outputs": [
    {
     "name": "stdout",
     "output_type": "stream",
     "text": [
      "chi2      :  3966.3875749774134\n",
      "p-value   :  0.0\n",
      "Degree of Freedom:  1\n"
     ]
    }
   ],
   "source": [
    "(chi2, p, dof, _) = stats.chi2_contingency([room_crosstab.iloc[0].values, room_crosstab.iloc[1].values])\n",
    "print(\"chi2      : \", chi2)\n",
    "print(\"p-value   : \", p)\n",
    "print(\"Degree of Freedom: \", dof)"
   ]
  },
  {
   "cell_type": "markdown",
   "id": "6be46b04",
   "metadata": {},
   "source": [
    "p<0.05, there is a relation between the variables!"
   ]
  },
  {
   "cell_type": "code",
   "execution_count": 45,
   "id": "22d6cbca",
   "metadata": {},
   "outputs": [
    {
     "data": {
      "text/plain": [
       "0    86111\n",
       "1     1093\n",
       "Name: net_canceled, dtype: int64"
      ]
     },
     "execution_count": 45,
     "metadata": {},
     "output_type": "execute_result"
    }
   ],
   "source": [
    "# Net Canceled\n",
    "data1['net_canceled'].value_counts()"
   ]
  },
  {
   "cell_type": "code",
   "execution_count": 46,
   "id": "43e49087",
   "metadata": {},
   "outputs": [
    {
     "data": {
      "text/html": [
       "<div>\n",
       "<style scoped>\n",
       "    .dataframe tbody tr th:only-of-type {\n",
       "        vertical-align: middle;\n",
       "    }\n",
       "\n",
       "    .dataframe tbody tr th {\n",
       "        vertical-align: top;\n",
       "    }\n",
       "\n",
       "    .dataframe thead th {\n",
       "        text-align: right;\n",
       "    }\n",
       "</style>\n",
       "<table border=\"1\" class=\"dataframe\">\n",
       "  <thead>\n",
       "    <tr style=\"text-align: right;\">\n",
       "      <th>is_canceled</th>\n",
       "      <th>0</th>\n",
       "      <th>1</th>\n",
       "    </tr>\n",
       "    <tr>\n",
       "      <th>net_canceled</th>\n",
       "      <th></th>\n",
       "      <th></th>\n",
       "    </tr>\n",
       "  </thead>\n",
       "  <tbody>\n",
       "    <tr>\n",
       "      <th>0</th>\n",
       "      <td>63148</td>\n",
       "      <td>22963</td>\n",
       "    </tr>\n",
       "    <tr>\n",
       "      <th>1</th>\n",
       "      <td>48</td>\n",
       "      <td>1045</td>\n",
       "    </tr>\n",
       "  </tbody>\n",
       "</table>\n",
       "</div>"
      ],
      "text/plain": [
       "is_canceled       0      1\n",
       "net_canceled              \n",
       "0             63148  22963\n",
       "1                48   1045"
      ]
     },
     "execution_count": 46,
     "metadata": {},
     "output_type": "execute_result"
    }
   ],
   "source": [
    "canceled_crosstab = pd.crosstab(index=data1['net_canceled'], columns=data1['is_canceled'])\n",
    "canceled_crosstab"
   ]
  },
  {
   "cell_type": "code",
   "execution_count": 47,
   "id": "cdc0cc98",
   "metadata": {},
   "outputs": [
    {
     "name": "stdout",
     "output_type": "stream",
     "text": [
      "chi2      :  2567.73032056666\n",
      "p-value   :  0.0\n",
      "Degree of Freedom:  1\n"
     ]
    }
   ],
   "source": [
    "(chi2, p, dof, _) = stats.chi2_contingency([canceled_crosstab.iloc[0].values, canceled_crosstab.iloc[1].values])\n",
    "print(\"chi2      : \", chi2)\n",
    "print(\"p-value   : \", p)\n",
    "print(\"Degree of Freedom: \", dof)"
   ]
  },
  {
   "cell_type": "markdown",
   "id": "4ae8f1ae",
   "metadata": {},
   "source": [
    "p<0.05, there is a relation between the variables!"
   ]
  },
  {
   "cell_type": "markdown",
   "id": "d7df6ca4",
   "metadata": {},
   "source": [
    "## Train-Test Split"
   ]
  },
  {
   "cell_type": "code",
   "execution_count": 48,
   "id": "825cdd29",
   "metadata": {},
   "outputs": [
    {
     "name": "stdout",
     "output_type": "stream",
     "text": [
      "<class 'pandas.core.frame.DataFrame'>\n",
      "RangeIndex: 87204 entries, 0 to 87203\n",
      "Data columns (total 18 columns):\n",
      " #   Column                       Non-Null Count  Dtype  \n",
      "---  ------                       --------------  -----  \n",
      " 0   hotel                        87204 non-null  int64  \n",
      " 1   is_canceled                  87204 non-null  int64  \n",
      " 2   lead_time                    87204 non-null  float64\n",
      " 3   country                      87204 non-null  int32  \n",
      " 4   market_segment               87204 non-null  int32  \n",
      " 5   distribution_channel         87204 non-null  int32  \n",
      " 6   is_repeated_guest            87204 non-null  int64  \n",
      " 7   booking_changes              87204 non-null  int64  \n",
      " 8   deposit_type                 87204 non-null  int32  \n",
      " 9   agent                        87204 non-null  int64  \n",
      " 10  days_in_waiting_list         87204 non-null  int64  \n",
      " 11  customer_type                87204 non-null  int32  \n",
      " 12  adr                          87204 non-null  float64\n",
      " 13  required_car_parking_spaces  87204 non-null  int64  \n",
      " 14  total_of_special_requests    87204 non-null  int64  \n",
      " 15  guests                       87204 non-null  int64  \n",
      " 16  room                         87204 non-null  int64  \n",
      " 17  net_canceled                 87204 non-null  int64  \n",
      "dtypes: float64(2), int32(5), int64(11)\n",
      "memory usage: 10.3 MB\n"
     ]
    }
   ],
   "source": [
    "data2 = data1.copy()\n",
    "data2.info()"
   ]
  },
  {
   "cell_type": "code",
   "execution_count": 49,
   "id": "9fc7778e",
   "metadata": {},
   "outputs": [
    {
     "data": {
      "text/plain": [
       "((87204, 17), (87204,))"
      ]
     },
     "execution_count": 49,
     "metadata": {},
     "output_type": "execute_result"
    }
   ],
   "source": [
    "X = data2.drop('is_canceled', axis='columns')\n",
    "y = data2['is_canceled']\n",
    "X.shape, y.shape"
   ]
  },
  {
   "cell_type": "code",
   "execution_count": 50,
   "id": "d248cf2f",
   "metadata": {},
   "outputs": [
    {
     "name": "stdout",
     "output_type": "stream",
     "text": [
      "(63196, 18) (24008, 18)\n"
     ]
    }
   ],
   "source": [
    "#Divide by class to check the imbalance on target variable!\n",
    "df_class_0 = data2[data2['is_canceled'] == 0]\n",
    "df_class_1 = data2[data2['is_canceled'] == 1]\n",
    "print(df_class_0.shape, df_class_1.shape)"
   ]
  },
  {
   "cell_type": "code",
   "execution_count": 51,
   "id": "e21f793c",
   "metadata": {},
   "outputs": [
    {
     "name": "stdout",
     "output_type": "stream",
     "text": [
      "(85646, 17) (85646,)\n"
     ]
    }
   ],
   "source": [
    "# Performing oversampling to handle the imbalance\n",
    "from imblearn.combine import SMOTETomek\n",
    "\n",
    "smk = SMOTETomek(random_state=42, sampling_strategy = 0.5)\n",
    "X_res, y_res = smk.fit_resample(X,y)\n",
    "print(X_res.shape, y_res.shape)"
   ]
  },
  {
   "cell_type": "code",
   "execution_count": 52,
   "id": "d0d84faf",
   "metadata": {},
   "outputs": [
    {
     "name": "stdout",
     "output_type": "stream",
     "text": [
      "(59952, 17) (25694, 17) (59952,) (25694,)\n"
     ]
    }
   ],
   "source": [
    "# Splitting the X and y into train and test sets\n",
    "from sklearn.model_selection import train_test_split\n",
    "\n",
    "X_train, X_test, y_train, y_test = train_test_split(X_res, y_res, test_size = 0.3, random_state = 15, stratify=y_res)\n",
    "print(X_train.shape, X_test.shape, y_train.shape, y_test.shape)"
   ]
  },
  {
   "cell_type": "markdown",
   "id": "4e3d5b1f",
   "metadata": {},
   "source": [
    "## Model 1 - Logistic Regression"
   ]
  },
  {
   "cell_type": "code",
   "execution_count": 53,
   "id": "b6e0713d",
   "metadata": {},
   "outputs": [
    {
     "data": {
      "text/plain": [
       "LogisticRegression(random_state=42)"
      ]
     },
     "execution_count": 53,
     "metadata": {},
     "output_type": "execute_result"
    }
   ],
   "source": [
    "from sklearn.linear_model import LogisticRegression\n",
    "model_logreg = LogisticRegression(random_state = 42)\n",
    "model_logreg.fit(X_train, y_train)"
   ]
  },
  {
   "cell_type": "code",
   "execution_count": 54,
   "id": "b3340684",
   "metadata": {},
   "outputs": [
    {
     "data": {
      "text/plain": [
       "array([0, 1, 1, ..., 0, 0, 0], dtype=int64)"
      ]
     },
     "execution_count": 54,
     "metadata": {},
     "output_type": "execute_result"
    }
   ],
   "source": [
    "model_logreg.predict(X_test)"
   ]
  },
  {
   "cell_type": "code",
   "execution_count": 55,
   "id": "bee2af98",
   "metadata": {},
   "outputs": [
    {
     "data": {
      "text/plain": [
       "0.7596410461702695"
      ]
     },
     "execution_count": 55,
     "metadata": {},
     "output_type": "execute_result"
    }
   ],
   "source": [
    "model_logreg.score(X_train, y_train)"
   ]
  },
  {
   "cell_type": "code",
   "execution_count": 56,
   "id": "55c011df",
   "metadata": {},
   "outputs": [
    {
     "data": {
      "text/plain": [
       "0.7644586284735736"
      ]
     },
     "execution_count": 56,
     "metadata": {},
     "output_type": "execute_result"
    }
   ],
   "source": [
    "model_logreg.score(X_test, y_test)"
   ]
  },
  {
   "cell_type": "code",
   "execution_count": 57,
   "id": "1bf9189b",
   "metadata": {},
   "outputs": [
    {
     "name": "stdout",
     "output_type": "stream",
     "text": [
      "[[15405  2182]\n",
      " [ 3870  4237]]\n",
      "0.7644586284735736\n",
      "              precision    recall  f1-score   support\n",
      "\n",
      "           0       0.80      0.88      0.84     17587\n",
      "           1       0.66      0.52      0.58      8107\n",
      "\n",
      "    accuracy                           0.76     25694\n",
      "   macro avg       0.73      0.70      0.71     25694\n",
      "weighted avg       0.76      0.76      0.76     25694\n",
      "\n"
     ]
    }
   ],
   "source": [
    "from sklearn.metrics import confusion_matrix, classification_report\n",
    "from sklearn.metrics import accuracy_score\n",
    "\n",
    "y_pred = model_logreg.predict(X_test)\n",
    "print(confusion_matrix(y_test, y_pred))\n",
    "print(accuracy_score(y_test, y_pred))\n",
    "print(classification_report(y_test, y_pred))"
   ]
  },
  {
   "cell_type": "markdown",
   "id": "4832bb37",
   "metadata": {},
   "source": [
    "## Model 2 - Random Forest "
   ]
  },
  {
   "cell_type": "code",
   "execution_count": 58,
   "id": "074356eb",
   "metadata": {},
   "outputs": [
    {
     "data": {
      "text/plain": [
       "RandomForestClassifier(random_state=42)"
      ]
     },
     "execution_count": 58,
     "metadata": {},
     "output_type": "execute_result"
    }
   ],
   "source": [
    "from sklearn.ensemble import RandomForestClassifier\n",
    "model_randomforest = RandomForestClassifier(random_state=42)\n",
    "model_randomforest.fit(X_train, y_train)"
   ]
  },
  {
   "cell_type": "code",
   "execution_count": 59,
   "id": "6d796dfc",
   "metadata": {},
   "outputs": [
    {
     "data": {
      "text/plain": [
       "0.9945789965305578"
      ]
     },
     "execution_count": 59,
     "metadata": {},
     "output_type": "execute_result"
    }
   ],
   "source": [
    "model_randomforest.score(X_train, y_train)"
   ]
  },
  {
   "cell_type": "code",
   "execution_count": 60,
   "id": "6949a07d",
   "metadata": {},
   "outputs": [
    {
     "data": {
      "text/plain": [
       "0.8652992916634233"
      ]
     },
     "execution_count": 60,
     "metadata": {},
     "output_type": "execute_result"
    }
   ],
   "source": [
    "model_randomforest.score(X_test, y_test)"
   ]
  },
  {
   "cell_type": "code",
   "execution_count": 61,
   "id": "d7b8784f",
   "metadata": {},
   "outputs": [
    {
     "name": "stdout",
     "output_type": "stream",
     "text": [
      "[[16006  1581]\n",
      " [ 1880  6227]]\n",
      "0.8652992916634233\n",
      "              precision    recall  f1-score   support\n",
      "\n",
      "           0       0.89      0.91      0.90     17587\n",
      "           1       0.80      0.77      0.78      8107\n",
      "\n",
      "    accuracy                           0.87     25694\n",
      "   macro avg       0.85      0.84      0.84     25694\n",
      "weighted avg       0.86      0.87      0.86     25694\n",
      "\n"
     ]
    }
   ],
   "source": [
    "y_pred = model_randomforest.predict(X_test)\n",
    "print(confusion_matrix(y_test, y_pred))\n",
    "print(accuracy_score(y_test, y_pred))\n",
    "print(classification_report(y_test, y_pred))"
   ]
  },
  {
   "cell_type": "markdown",
   "id": "9a152f25",
   "metadata": {},
   "source": [
    "## Model 3 - Decision Tree"
   ]
  },
  {
   "cell_type": "code",
   "execution_count": 62,
   "id": "808cfca0",
   "metadata": {},
   "outputs": [
    {
     "data": {
      "text/plain": [
       "DecisionTreeClassifier(criterion='entropy', random_state=42)"
      ]
     },
     "execution_count": 62,
     "metadata": {},
     "output_type": "execute_result"
    }
   ],
   "source": [
    "from sklearn.tree import DecisionTreeClassifier\n",
    "model_decisiontree = DecisionTreeClassifier(criterion = 'entropy', random_state = 42)\n",
    "model_decisiontree.fit(X_train, y_train)"
   ]
  },
  {
   "cell_type": "code",
   "execution_count": 63,
   "id": "e842669d",
   "metadata": {},
   "outputs": [
    {
     "data": {
      "text/plain": [
       "0.9945956765412329"
      ]
     },
     "execution_count": 63,
     "metadata": {},
     "output_type": "execute_result"
    }
   ],
   "source": [
    "model_decisiontree.score(X_train, y_train)"
   ]
  },
  {
   "cell_type": "code",
   "execution_count": 64,
   "id": "9bc6e04b",
   "metadata": {},
   "outputs": [
    {
     "data": {
      "text/plain": [
       "0.8253288705534366"
      ]
     },
     "execution_count": 64,
     "metadata": {},
     "output_type": "execute_result"
    }
   ],
   "source": [
    "model_decisiontree.score(X_test, y_test)"
   ]
  },
  {
   "cell_type": "code",
   "execution_count": 65,
   "id": "1a21ee92",
   "metadata": {},
   "outputs": [
    {
     "name": "stdout",
     "output_type": "stream",
     "text": [
      "[[15323  2264]\n",
      " [ 2224  5883]]\n",
      "0.8253288705534366\n",
      "              precision    recall  f1-score   support\n",
      "\n",
      "           0       0.87      0.87      0.87     17587\n",
      "           1       0.72      0.73      0.72      8107\n",
      "\n",
      "    accuracy                           0.83     25694\n",
      "   macro avg       0.80      0.80      0.80     25694\n",
      "weighted avg       0.83      0.83      0.83     25694\n",
      "\n"
     ]
    }
   ],
   "source": [
    "y_pred = model_decisiontree.predict(X_test)\n",
    "print(confusion_matrix(y_test, y_pred))\n",
    "print(accuracy_score(y_test, y_pred))\n",
    "print(classification_report(y_test, y_pred))"
   ]
  },
  {
   "cell_type": "markdown",
   "id": "311db1e5",
   "metadata": {},
   "source": [
    "## Model 4 - XGBoost"
   ]
  },
  {
   "cell_type": "code",
   "execution_count": 66,
   "id": "1288c373",
   "metadata": {},
   "outputs": [
    {
     "name": "stdout",
     "output_type": "stream",
     "text": [
      "[17:39:36] WARNING: C:/Users/Administrator/workspace/xgboost-win64_release_1.5.0/src/learner.cc:1115: Starting in XGBoost 1.3.0, the default evaluation metric used with the objective 'binary:logistic' was changed from 'error' to 'logloss'. Explicitly set eval_metric if you'd like to restore the old behavior.\n"
     ]
    },
    {
     "data": {
      "text/plain": [
       "XGBClassifier(base_score=0.5, booster='gbtree', colsample_bylevel=1,\n",
       "              colsample_bynode=1, colsample_bytree=1, enable_categorical=False,\n",
       "              gamma=0, gpu_id=-1, importance_type=None,\n",
       "              interaction_constraints='', learning_rate=0.300000012,\n",
       "              max_delta_step=0, max_depth=3, min_child_weight=1, missing=nan,\n",
       "              monotone_constraints='()', n_estimators=90, n_jobs=12,\n",
       "              num_parallel_tree=1, predictor='auto', random_state=0,\n",
       "              reg_alpha=0, reg_lambda=1, scale_pos_weight=1, subsample=1,\n",
       "              tree_method='exact', validate_parameters=1, verbosity=None)"
      ]
     },
     "execution_count": 66,
     "metadata": {},
     "output_type": "execute_result"
    }
   ],
   "source": [
    "from xgboost import XGBClassifier\n",
    "model_xg = XGBClassifier(n_estimators = 90, max_depth = 3)\n",
    "model_xg.fit(X_train, y_train)"
   ]
  },
  {
   "cell_type": "code",
   "execution_count": 67,
   "id": "505619f5",
   "metadata": {},
   "outputs": [
    {
     "data": {
      "text/plain": [
       "0.8534327461969575"
      ]
     },
     "execution_count": 67,
     "metadata": {},
     "output_type": "execute_result"
    }
   ],
   "source": [
    "model_xg.score(X_train, y_train)"
   ]
  },
  {
   "cell_type": "code",
   "execution_count": 68,
   "id": "5f4195a5",
   "metadata": {},
   "outputs": [
    {
     "data": {
      "text/plain": [
       "0.8563088658830855"
      ]
     },
     "execution_count": 68,
     "metadata": {},
     "output_type": "execute_result"
    }
   ],
   "source": [
    "model_xg.score(X_test, y_test)"
   ]
  },
  {
   "cell_type": "code",
   "execution_count": 69,
   "id": "a1a760d1",
   "metadata": {},
   "outputs": [
    {
     "name": "stdout",
     "output_type": "stream",
     "text": [
      "[[16022  1565]\n",
      " [ 2127  5980]]\n",
      "0.8563088658830855\n",
      "              precision    recall  f1-score   support\n",
      "\n",
      "           0       0.88      0.91      0.90     17587\n",
      "           1       0.79      0.74      0.76      8107\n",
      "\n",
      "    accuracy                           0.86     25694\n",
      "   macro avg       0.84      0.82      0.83     25694\n",
      "weighted avg       0.85      0.86      0.85     25694\n",
      "\n"
     ]
    }
   ],
   "source": [
    "y_pred = model_xg.predict(X_test)\n",
    "print(confusion_matrix(y_test, y_pred))\n",
    "print(accuracy_score(y_test, y_pred))\n",
    "print(classification_report(y_test, y_pred))"
   ]
  },
  {
   "cell_type": "markdown",
   "id": "0459d0e0",
   "metadata": {},
   "source": [
    "## Model 5 - KNN"
   ]
  },
  {
   "cell_type": "code",
   "execution_count": 70,
   "id": "53af2848",
   "metadata": {},
   "outputs": [
    {
     "data": {
      "text/plain": [
       "KNeighborsClassifier(n_neighbors=2)"
      ]
     },
     "execution_count": 70,
     "metadata": {},
     "output_type": "execute_result"
    }
   ],
   "source": [
    "from sklearn.model_selection import KFold\n",
    "from sklearn.model_selection import cross_val_score\n",
    "from sklearn.neighbors import KNeighborsClassifier\n",
    "model_knn = KNeighborsClassifier(n_neighbors=2)\n",
    "model_knn.fit(X_train, y_train)"
   ]
  },
  {
   "cell_type": "code",
   "execution_count": 71,
   "id": "598ad265",
   "metadata": {},
   "outputs": [
    {
     "data": {
      "text/plain": [
       "0.9260908726981585"
      ]
     },
     "execution_count": 71,
     "metadata": {},
     "output_type": "execute_result"
    }
   ],
   "source": [
    "model_knn.score(X_train, y_train)"
   ]
  },
  {
   "cell_type": "code",
   "execution_count": 72,
   "id": "ac28edbc",
   "metadata": {},
   "outputs": [
    {
     "data": {
      "text/plain": [
       "0.7875379466023196"
      ]
     },
     "execution_count": 72,
     "metadata": {},
     "output_type": "execute_result"
    }
   ],
   "source": [
    "model_knn.score(X_test, y_test)"
   ]
  },
  {
   "cell_type": "code",
   "execution_count": 73,
   "id": "fda9be74",
   "metadata": {},
   "outputs": [
    {
     "name": "stdout",
     "output_type": "stream",
     "text": [
      "[[15923  1664]\n",
      " [ 3795  4312]]\n",
      "0.7875379466023196\n",
      "              precision    recall  f1-score   support\n",
      "\n",
      "           0       0.81      0.91      0.85     17587\n",
      "           1       0.72      0.53      0.61      8107\n",
      "\n",
      "    accuracy                           0.79     25694\n",
      "   macro avg       0.76      0.72      0.73     25694\n",
      "weighted avg       0.78      0.79      0.78     25694\n",
      "\n"
     ]
    }
   ],
   "source": [
    "y_pred = model_knn.predict(X_test)\n",
    "print(confusion_matrix(y_test, y_pred))\n",
    "print(accuracy_score(y_test, y_pred))\n",
    "print(classification_report(y_test, y_pred))"
   ]
  },
  {
   "cell_type": "markdown",
   "id": "3c37af17",
   "metadata": {},
   "source": [
    "## Model 6 - Naive Bayes"
   ]
  },
  {
   "cell_type": "code",
   "execution_count": 74,
   "id": "f4a97c4f",
   "metadata": {},
   "outputs": [
    {
     "data": {
      "text/plain": [
       "GaussianNB()"
      ]
     },
     "execution_count": 74,
     "metadata": {},
     "output_type": "execute_result"
    }
   ],
   "source": [
    "from sklearn.naive_bayes import GaussianNB\n",
    "model_gaussnb = GaussianNB()\n",
    "model_gaussnb.fit(X_train, y_train)"
   ]
  },
  {
   "cell_type": "code",
   "execution_count": 75,
   "id": "7a86a23b",
   "metadata": {},
   "outputs": [
    {
     "data": {
      "text/plain": [
       "0.609604350146784"
      ]
     },
     "execution_count": 75,
     "metadata": {},
     "output_type": "execute_result"
    }
   ],
   "source": [
    "model_gaussnb.score(X_train, y_train)"
   ]
  },
  {
   "cell_type": "code",
   "execution_count": 76,
   "id": "a40e6a56",
   "metadata": {},
   "outputs": [
    {
     "data": {
      "text/plain": [
       "0.6071845567058457"
      ]
     },
     "execution_count": 76,
     "metadata": {},
     "output_type": "execute_result"
    }
   ],
   "source": [
    "model_gaussnb.score(X_test, y_test)"
   ]
  },
  {
   "cell_type": "code",
   "execution_count": 77,
   "id": "6735fc14",
   "metadata": {},
   "outputs": [
    {
     "name": "stdout",
     "output_type": "stream",
     "text": [
      "[[8343 9244]\n",
      " [ 849 7258]]\n",
      "0.6071845567058457\n",
      "              precision    recall  f1-score   support\n",
      "\n",
      "           0       0.91      0.47      0.62     17587\n",
      "           1       0.44      0.90      0.59      8107\n",
      "\n",
      "    accuracy                           0.61     25694\n",
      "   macro avg       0.67      0.68      0.61     25694\n",
      "weighted avg       0.76      0.61      0.61     25694\n",
      "\n"
     ]
    }
   ],
   "source": [
    "y_pred = model_gaussnb.predict(X_test)\n",
    "print(confusion_matrix(y_test, y_pred))\n",
    "print(accuracy_score(y_test, y_pred))\n",
    "print(classification_report(y_test, y_pred))"
   ]
  },
  {
   "cell_type": "markdown",
   "id": "a32a5157",
   "metadata": {},
   "source": [
    "#### XGBoost and Random Forest appear to have better accuracies than other models. So we will hyperparameter tune them to see which is the best model!"
   ]
  },
  {
   "cell_type": "code",
   "execution_count": 78,
   "id": "cc6877c1",
   "metadata": {},
   "outputs": [
    {
     "data": {
      "text/plain": [
       "RandomForestClassifier(max_depth=7, random_state=2)"
      ]
     },
     "execution_count": 78,
     "metadata": {},
     "output_type": "execute_result"
    }
   ],
   "source": [
    "# Random Forest\n",
    "rf_tuned = RandomForestClassifier(n_estimators = 100,\n",
    "                                random_state = 2,\n",
    "                                criterion = 'gini',\n",
    "                                max_features = 'auto',\n",
    "                                max_depth = 7)\n",
    "rf_tuned.fit(X_train, y_train)"
   ]
  },
  {
   "cell_type": "code",
   "execution_count": 79,
   "id": "4421d5d9",
   "metadata": {},
   "outputs": [
    {
     "name": "stdout",
     "output_type": "stream",
     "text": [
      "[[16430  1157]\n",
      " [ 3273  4834]]\n",
      "0.8275862068965517\n",
      "              precision    recall  f1-score   support\n",
      "\n",
      "           0       0.83      0.93      0.88     17587\n",
      "           1       0.81      0.60      0.69      8107\n",
      "\n",
      "    accuracy                           0.83     25694\n",
      "   macro avg       0.82      0.77      0.78     25694\n",
      "weighted avg       0.83      0.83      0.82     25694\n",
      "\n"
     ]
    }
   ],
   "source": [
    "y_pred = rf_tuned.predict(X_test)\n",
    "print(confusion_matrix(y_test, y_pred))\n",
    "print(accuracy_score(y_test, y_pred))\n",
    "print(classification_report(y_test, y_pred))"
   ]
  },
  {
   "cell_type": "code",
   "execution_count": 102,
   "id": "005c233b",
   "metadata": {},
   "outputs": [],
   "source": [
    "# XGBoost\n",
    "\n",
    "params={\n",
    " \"learning_rate\"    : [0.05, 0.10, 0.15, 0.20, 0.25, 0.30 ] ,\n",
    " \"max_depth\"        : [ 3, 4, 5, 6, 8, 10, 12, 15],\n",
    " \"min_child_weight\" : [ 1, 3, 5, 7 ],\n",
    " \"gamma\"            : [ 0.0, 0.1, 0.2 , 0.3, 0.4 ],\n",
    " \"colsample_bytree\" : [ 0.3, 0.4, 0.5 , 0.7 ]\n",
    "    \n",
    "}"
   ]
  },
  {
   "cell_type": "code",
   "execution_count": 103,
   "id": "04949333",
   "metadata": {},
   "outputs": [],
   "source": [
    "## Hyperparameter optimization using RandomizedSearchCV\n",
    "from sklearn.model_selection import RandomizedSearchCV, GridSearchCV\n",
    "import xgboost"
   ]
  },
  {
   "cell_type": "code",
   "execution_count": 104,
   "id": "c4a0a5e3",
   "metadata": {},
   "outputs": [],
   "source": [
    "def timer(start_time=None):\n",
    "    if not start_time:\n",
    "        start_time = datetime.now()\n",
    "        return start_time\n",
    "    elif start_time:\n",
    "        thour, temp_sec = divmod((datetime.now() - start_time).total_seconds(), 3600)\n",
    "        tmin, tsec = divmod(temp_sec, 60)\n",
    "        print('\\n Time taken: %i hours %i minutes and %s seconds.' % (thour, tmin, round(tsec, 2)))"
   ]
  },
  {
   "cell_type": "code",
   "execution_count": 105,
   "id": "a5b6fbc1",
   "metadata": {},
   "outputs": [],
   "source": [
    "classifier = xgboost.XGBClassifier()"
   ]
  },
  {
   "cell_type": "code",
   "execution_count": 106,
   "id": "5d76b4b7",
   "metadata": {},
   "outputs": [],
   "source": [
    "random_search=RandomizedSearchCV(classifier,param_distributions=params,n_iter=5,scoring='roc_auc',n_jobs=-1,cv=5,verbose=3)"
   ]
  },
  {
   "cell_type": "code",
   "execution_count": 107,
   "id": "930b6aae",
   "metadata": {},
   "outputs": [
    {
     "name": "stdout",
     "output_type": "stream",
     "text": [
      "Fitting 5 folds for each of 5 candidates, totalling 25 fits\n",
      "[17:50:29] WARNING: C:/Users/Administrator/workspace/xgboost-win64_release_1.5.0/src/learner.cc:1115: Starting in XGBoost 1.3.0, the default evaluation metric used with the objective 'binary:logistic' was changed from 'error' to 'logloss'. Explicitly set eval_metric if you'd like to restore the old behavior.\n",
      "\n",
      " Time taken: 0 hours 0 minutes and 33.21 seconds.\n"
     ]
    }
   ],
   "source": [
    "from datetime import datetime\n",
    "# Here we go\n",
    "start_time = timer(None) # timing starts from this point for \"start_time\" variable\n",
    "random_search.fit(X_train,y_train)\n",
    "timer(start_time) # timing ends here for \"start_time\" variable"
   ]
  },
  {
   "cell_type": "code",
   "execution_count": 108,
   "id": "c917d23f",
   "metadata": {},
   "outputs": [
    {
     "data": {
      "text/plain": [
       "XGBClassifier(base_score=0.5, booster='gbtree', colsample_bylevel=1,\n",
       "              colsample_bynode=1, colsample_bytree=0.5,\n",
       "              enable_categorical=False, gamma=0.2, gpu_id=-1,\n",
       "              importance_type=None, interaction_constraints='',\n",
       "              learning_rate=0.3, max_delta_step=0, max_depth=10,\n",
       "              min_child_weight=3, missing=nan, monotone_constraints='()',\n",
       "              n_estimators=100, n_jobs=12, num_parallel_tree=1,\n",
       "              predictor='auto', random_state=0, reg_alpha=0, reg_lambda=1,\n",
       "              scale_pos_weight=1, subsample=1, tree_method='exact',\n",
       "              validate_parameters=1, verbosity=None)"
      ]
     },
     "execution_count": 108,
     "metadata": {},
     "output_type": "execute_result"
    }
   ],
   "source": [
    "random_search.best_estimator_"
   ]
  },
  {
   "cell_type": "code",
   "execution_count": 109,
   "id": "073b78ef",
   "metadata": {},
   "outputs": [],
   "source": [
    "classifier = xgboost.XGBClassifier(base_score=0.5, booster='gbtree', colsample_bylevel=1,\n",
    "              colsample_bynode=1, colsample_bytree=0.5,\n",
    "              enable_categorical=False, gamma=0.2, gpu_id=-1,\n",
    "              importance_type=None, interaction_constraints='',\n",
    "              learning_rate=0.3, max_delta_step=0, max_depth=10,\n",
    "              min_child_weight=3, monotone_constraints='()',\n",
    "              n_estimators=100, n_jobs=12, num_parallel_tree=1,\n",
    "              predictor='auto', random_state=0, reg_alpha=0, reg_lambda=1,\n",
    "              scale_pos_weight=1, subsample=1, tree_method='exact',\n",
    "              validate_parameters=1, verbosity=None)"
   ]
  },
  {
   "cell_type": "code",
   "execution_count": 110,
   "id": "8dcdaa99",
   "metadata": {},
   "outputs": [
    {
     "name": "stdout",
     "output_type": "stream",
     "text": [
      "[17:51:19] WARNING: C:/Users/Administrator/workspace/xgboost-win64_release_1.5.0/src/learner.cc:1115: Starting in XGBoost 1.3.0, the default evaluation metric used with the objective 'binary:logistic' was changed from 'error' to 'logloss'. Explicitly set eval_metric if you'd like to restore the old behavior.\n",
      "[17:51:21] WARNING: C:/Users/Administrator/workspace/xgboost-win64_release_1.5.0/src/learner.cc:1115: Starting in XGBoost 1.3.0, the default evaluation metric used with the objective 'binary:logistic' was changed from 'error' to 'logloss'. Explicitly set eval_metric if you'd like to restore the old behavior.\n",
      "[17:51:24] WARNING: C:/Users/Administrator/workspace/xgboost-win64_release_1.5.0/src/learner.cc:1115: Starting in XGBoost 1.3.0, the default evaluation metric used with the objective 'binary:logistic' was changed from 'error' to 'logloss'. Explicitly set eval_metric if you'd like to restore the old behavior.\n",
      "[17:51:26] WARNING: C:/Users/Administrator/workspace/xgboost-win64_release_1.5.0/src/learner.cc:1115: Starting in XGBoost 1.3.0, the default evaluation metric used with the objective 'binary:logistic' was changed from 'error' to 'logloss'. Explicitly set eval_metric if you'd like to restore the old behavior.\n",
      "[17:51:29] WARNING: C:/Users/Administrator/workspace/xgboost-win64_release_1.5.0/src/learner.cc:1115: Starting in XGBoost 1.3.0, the default evaluation metric used with the objective 'binary:logistic' was changed from 'error' to 'logloss'. Explicitly set eval_metric if you'd like to restore the old behavior.\n",
      "[17:51:31] WARNING: C:/Users/Administrator/workspace/xgboost-win64_release_1.5.0/src/learner.cc:1115: Starting in XGBoost 1.3.0, the default evaluation metric used with the objective 'binary:logistic' was changed from 'error' to 'logloss'. Explicitly set eval_metric if you'd like to restore the old behavior.\n",
      "[17:51:34] WARNING: C:/Users/Administrator/workspace/xgboost-win64_release_1.5.0/src/learner.cc:1115: Starting in XGBoost 1.3.0, the default evaluation metric used with the objective 'binary:logistic' was changed from 'error' to 'logloss'. Explicitly set eval_metric if you'd like to restore the old behavior.\n",
      "[17:51:36] WARNING: C:/Users/Administrator/workspace/xgboost-win64_release_1.5.0/src/learner.cc:1115: Starting in XGBoost 1.3.0, the default evaluation metric used with the objective 'binary:logistic' was changed from 'error' to 'logloss'. Explicitly set eval_metric if you'd like to restore the old behavior.\n",
      "[17:51:39] WARNING: C:/Users/Administrator/workspace/xgboost-win64_release_1.5.0/src/learner.cc:1115: Starting in XGBoost 1.3.0, the default evaluation metric used with the objective 'binary:logistic' was changed from 'error' to 'logloss'. Explicitly set eval_metric if you'd like to restore the old behavior.\n",
      "[17:51:41] WARNING: C:/Users/Administrator/workspace/xgboost-win64_release_1.5.0/src/learner.cc:1115: Starting in XGBoost 1.3.0, the default evaluation metric used with the objective 'binary:logistic' was changed from 'error' to 'logloss'. Explicitly set eval_metric if you'd like to restore the old behavior.\n"
     ]
    }
   ],
   "source": [
    "from sklearn.model_selection import cross_val_score\n",
    "score=cross_val_score(classifier,X_train, y_train,cv=10)"
   ]
  },
  {
   "cell_type": "code",
   "execution_count": 111,
   "id": "ce63be7f",
   "metadata": {},
   "outputs": [
    {
     "data": {
      "text/plain": [
       "array([0.86074049, 0.87958639, 0.86788991, 0.86538782, 0.85788157,\n",
       "       0.86972477, 0.86588824, 0.87222686, 0.87272727, 0.86505421])"
      ]
     },
     "execution_count": 111,
     "metadata": {},
     "output_type": "execute_result"
    }
   ],
   "source": [
    "score"
   ]
  },
  {
   "cell_type": "code",
   "execution_count": 112,
   "id": "0a0894c0",
   "metadata": {},
   "outputs": [
    {
     "data": {
      "text/plain": [
       "0.8677107535131846"
      ]
     },
     "execution_count": 112,
     "metadata": {},
     "output_type": "execute_result"
    }
   ],
   "source": [
    "score.mean()"
   ]
  },
  {
   "cell_type": "code",
   "execution_count": 113,
   "id": "76ea820a",
   "metadata": {},
   "outputs": [
    {
     "name": "stdout",
     "output_type": "stream",
     "text": [
      "[17:52:42] WARNING: C:/Users/Administrator/workspace/xgboost-win64_release_1.5.0/src/learner.cc:1115: Starting in XGBoost 1.3.0, the default evaluation metric used with the objective 'binary:logistic' was changed from 'error' to 'logloss'. Explicitly set eval_metric if you'd like to restore the old behavior.\n"
     ]
    },
    {
     "data": {
      "text/plain": [
       "XGBClassifier(base_score=0.5, booster='gbtree', colsample_bylevel=1,\n",
       "              colsample_bynode=1, colsample_bytree=0.5,\n",
       "              enable_categorical=False, gamma=0.2, gpu_id=-1,\n",
       "              importance_type=None, interaction_constraints='',\n",
       "              learning_rate=0.3, max_delta_step=0, max_depth=10,\n",
       "              min_child_weight=3, missing=nan, monotone_constraints='()',\n",
       "              n_estimators=100, n_jobs=12, num_parallel_tree=1,\n",
       "              predictor='auto', random_state=0, reg_alpha=0, reg_lambda=1,\n",
       "              scale_pos_weight=1, subsample=1, tree_method='exact',\n",
       "              validate_parameters=1, verbosity=None)"
      ]
     },
     "execution_count": 113,
     "metadata": {},
     "output_type": "execute_result"
    }
   ],
   "source": [
    "classifier.fit(X_train, y_train)"
   ]
  },
  {
   "cell_type": "code",
   "execution_count": 114,
   "id": "14f66202",
   "metadata": {},
   "outputs": [
    {
     "data": {
      "text/plain": [
       "0.9106785428342674"
      ]
     },
     "execution_count": 114,
     "metadata": {},
     "output_type": "execute_result"
    }
   ],
   "source": [
    "classifier.score(X_train, y_train)"
   ]
  },
  {
   "cell_type": "code",
   "execution_count": 115,
   "id": "93110c8f",
   "metadata": {},
   "outputs": [
    {
     "data": {
      "text/plain": [
       "0.8714096676266833"
      ]
     },
     "execution_count": 115,
     "metadata": {},
     "output_type": "execute_result"
    }
   ],
   "source": [
    "classifier.score(X_test, y_test)"
   ]
  },
  {
   "cell_type": "code",
   "execution_count": 116,
   "id": "4877967c",
   "metadata": {},
   "outputs": [
    {
     "name": "stdout",
     "output_type": "stream",
     "text": [
      "[[16045  1542]\n",
      " [ 1762  6345]]\n",
      "0.8714096676266833\n",
      "              precision    recall  f1-score   support\n",
      "\n",
      "           0       0.90      0.91      0.91     17587\n",
      "           1       0.80      0.78      0.79      8107\n",
      "\n",
      "    accuracy                           0.87     25694\n",
      "   macro avg       0.85      0.85      0.85     25694\n",
      "weighted avg       0.87      0.87      0.87     25694\n",
      "\n"
     ]
    }
   ],
   "source": [
    "y_pred = classifier.predict(X_test)\n",
    "print(confusion_matrix(y_test, y_pred))\n",
    "print(accuracy_score(y_test, y_pred))\n",
    "print(classification_report(y_test, y_pred))"
   ]
  },
  {
   "cell_type": "code",
   "execution_count": null,
   "id": "04efedb2",
   "metadata": {},
   "outputs": [],
   "source": [
    "# pickling the model\n",
    "import pickle\n",
    "pickle_out = open('model.pkl', 'wb')\n",
    "pickle.dump(classifier, pickle_out)\n",
    "pickle_out.close()"
   ]
  }
 ],
 "metadata": {
  "kernelspec": {
   "display_name": "Python 3",
   "language": "python",
   "name": "python3"
  },
  "language_info": {
   "codemirror_mode": {
    "name": "ipython",
    "version": 3
   },
   "file_extension": ".py",
   "mimetype": "text/x-python",
   "name": "python",
   "nbconvert_exporter": "python",
   "pygments_lexer": "ipython3",
   "version": "3.8.8"
  }
 },
 "nbformat": 4,
 "nbformat_minor": 5
}
